{
  "nbformat": 4,
  "nbformat_minor": 0,
  "metadata": {
    "colab": {
      "name": "[ViT]  - Experimento 6",
      "provenance": [],
      "collapsed_sections": []
    },
    "kernelspec": {
      "name": "python3",
      "display_name": "Python 3"
    },
    "accelerator": "GPU"
  },
  "cells": [
    {
      "cell_type": "markdown",
      "metadata": {
        "id": "X7W7v1i4gVn4"
      },
      "source": [
        "Baixando e extraindo o dataset:"
      ]
    },
    {
      "cell_type": "code",
      "source": [
        "from google.colab import drive\n",
        "drive._mount('/content/gdrive')"
      ],
      "metadata": {
        "colab": {
          "base_uri": "https://localhost:8080/"
        },
        "id": "yyTsMj2Jt086",
        "outputId": "e967a365-3c81-4508-a188-21974809f736"
      },
      "execution_count": 14,
      "outputs": [
        {
          "output_type": "stream",
          "name": "stdout",
          "text": [
            "Drive already mounted at /content/gdrive; to attempt to forcibly remount, call drive.mount(\"/content/gdrive\", force_remount=True).\n"
          ]
        }
      ]
    },
    {
      "cell_type": "code",
      "metadata": {
        "colab": {
          "base_uri": "https://localhost:8080/"
        },
        "id": "bXEKzdpBiCgN",
        "outputId": "fd0f31f5-94c8-44f6-e636-574eef170277"
      },
      "source": [
        "!rm -r dataset_aumentado/\n",
        "!unzip -o -q /content/gdrive/MyDrive/dataset_aumentado_384.zip"
      ],
      "execution_count": 15,
      "outputs": [
        {
          "output_type": "stream",
          "name": "stdout",
          "text": [
            "rm: cannot remove 'dataset_aumentado/': No such file or directory\n"
          ]
        }
      ]
    },
    {
      "cell_type": "markdown",
      "metadata": {
        "id": "z9T4CFWtdR8r"
      },
      "source": [
        "Importando as bibliotecas necessárias."
      ]
    },
    {
      "cell_type": "code",
      "metadata": {
        "id": "2qveJTWbdV3z",
        "colab": {
          "base_uri": "https://localhost:8080/"
        },
        "outputId": "c0049db0-90c2-4188-a9a9-d48fa100ceca"
      },
      "source": [
        "!pip install tensorflow_addons\n",
        "import pandas as pd\n",
        "import numpy as np\n",
        "import tensorflow as tf\n",
        "import tensorflow_addons as tfa\n",
        "import glob, warnings\n",
        "import matplotlib.pyplot as plt\n",
        "from sklearn.metrics import confusion_matrix, classification_report\n",
        "import seaborn as sns\n",
        "import os\n",
        "\n",
        "warnings.filterwarnings('ignore')\n",
        "print('TensorFlow Version ' + tf.__version__)"
      ],
      "execution_count": 16,
      "outputs": [
        {
          "output_type": "stream",
          "name": "stdout",
          "text": [
            "Requirement already satisfied: tensorflow_addons in /usr/local/lib/python3.7/dist-packages (0.15.0)\n",
            "Requirement already satisfied: typeguard>=2.7 in /usr/local/lib/python3.7/dist-packages (from tensorflow_addons) (2.7.1)\n",
            "TensorFlow Version 2.7.0\n"
          ]
        }
      ]
    },
    {
      "cell_type": "code",
      "source": [
        "IMAGE_SIZE = 384\n",
        "BATCH_SIZE = 8\n",
        "EPOCHS = 100\n",
        "\n",
        "diretorio = 'dataset_aumentado_384/images'\n",
        "\n",
        "TRAIN_PATH = os.path.join(diretorio, 'train')\n",
        "TEST_PATH = os.path.join(diretorio, 'test')\n",
        "VALIDATION_PATH = os.path.join(diretorio, 'validation')\n",
        "\n",
        "classes={\n",
        "    0:'CD',\n",
        "    1:'MF',\n",
        "    2:'MP',\n",
        "    3:'MR',\n",
        "    4:'MG',\n",
        "    5:'MT',\n",
        "    6:'RG',\n",
        "    7:'TA',\n",
        "    8:'TB',\n",
        "    9:'TR',\n",
        "    10:'TC',\n",
        "    11:'TN'\n",
        "}"
      ],
      "metadata": {
        "id": "RwM6JCdbiZQ0"
      },
      "execution_count": 17,
      "outputs": []
    },
    {
      "cell_type": "code",
      "source": [
        "import tensorflow.keras.backend as K\n",
        "import math\n",
        "def recall_m(y_true, y_pred):\n",
        "    true_positives = K.sum(K.round(K.clip(y_true * y_pred, 0, 1)))\n",
        "    possible_positives = K.sum(K.round(K.clip(y_true, 0, 1)))\n",
        "    recall = true_positives / (possible_positives + K.epsilon())\n",
        "    return recall\n",
        "\n",
        "def precision_m(y_true, y_pred):\n",
        "    true_positives = K.sum(K.round(K.clip(y_true * y_pred, 0, 1)))\n",
        "    predicted_positives = K.sum(K.round(K.clip(y_pred, 0, 1)))\n",
        "    precision = true_positives / (predicted_positives + K.epsilon())\n",
        "    return precision\n",
        "\n",
        "def f1_m(y_true, y_pred):\n",
        "    precision = precision_m(y_true, y_pred)\n",
        "    recall = recall_m(y_true, y_pred)\n",
        "    return 2*((precision*recall)/(precision+recall+K.epsilon()))\n",
        "\n",
        "#------------------------\n",
        "#step decay para o SGD\n",
        "def step_decay1(epoch):\n",
        "   initial_lrate = 1e-4\n",
        "   flattern_factor = initial_lrate ** 2.25\n",
        "   epochs_drop = 5.0\n",
        "   #drop modelado como modelado no artigo\n",
        "   drop = initial_lrate **(flattern_factor/epochs_drop)\n",
        "   \n",
        "   lrate = initial_lrate * math.pow(drop,  \n",
        "           math.floor((epoch)/epochs_drop))\n",
        "   return lrate\n",
        "\n",
        "#step decay\n",
        "def step_decay2(epoch):\n",
        "   initial_lrate = 1e-6\n",
        "   flattern_factor = initial_lrate ** 2.25\n",
        "   epochs_drop = 5.0\n",
        "   #drop modelado como modelado no artigo\n",
        "   drop = initial_lrate **(flattern_factor/epochs_drop)\n",
        "   \n",
        "   lrate = initial_lrate * math.pow(drop,  \n",
        "           math.floor((epoch)/epochs_drop))\n",
        "   return lrate"
      ],
      "metadata": {
        "id": "J1PpkIdmvyBA"
      },
      "execution_count": 18,
      "outputs": []
    },
    {
      "cell_type": "code",
      "source": [
        "!pip install --quiet vit-keras\n",
        "\n",
        "from vit_keras import vit"
      ],
      "metadata": {
        "id": "cxyZvmvjlIts"
      },
      "execution_count": 19,
      "outputs": []
    },
    {
      "cell_type": "code",
      "source": [
        "train_datagen = tf.keras.preprocessing.image.ImageDataGenerator(preprocessing_function=vit.preprocess_inputs)\n",
        "\n",
        "val_datagen = tf.keras.preprocessing.image.ImageDataGenerator(preprocessing_function=vit.preprocess_inputs)\n",
        "\n",
        "test_datagen = tf.keras.preprocessing.image.ImageDataGenerator(preprocessing_function=vit.preprocess_inputs)\n",
        "\n",
        "train_set = train_datagen.flow_from_directory(TRAIN_PATH,\n",
        "                                              target_size=(IMAGE_SIZE, IMAGE_SIZE),\n",
        "                                              class_mode='categorical',\n",
        "                                              batch_size=BATCH_SIZE)\n",
        "\n",
        "val_set = train_datagen.flow_from_directory(VALIDATION_PATH,\n",
        "                                              target_size=(IMAGE_SIZE, IMAGE_SIZE),\n",
        "                                              class_mode='categorical',\n",
        "                                              batch_size=BATCH_SIZE)\n",
        "\n",
        "test_set = test_datagen.flow_from_directory(TEST_PATH, \n",
        "                                            target_size=(IMAGE_SIZE, IMAGE_SIZE),\n",
        "                                            class_mode='categorical',\n",
        "                                            batch_size=1,\n",
        "                                            shuffle=False)"
      ],
      "metadata": {
        "colab": {
          "base_uri": "https://localhost:8080/"
        },
        "id": "keKbeo__kZDa",
        "outputId": "2d7a2d08-410b-4d3b-924c-6dd426257939"
      },
      "execution_count": 20,
      "outputs": [
        {
          "output_type": "stream",
          "name": "stdout",
          "text": [
            "Found 6718 images belonging to 12 classes.\n",
            "Found 132 images belonging to 12 classes.\n",
            "Found 72 images belonging to 12 classes.\n"
          ]
        }
      ]
    },
    {
      "cell_type": "code",
      "source": [
        "vit_model = vit.vit_b16(\n",
        "        image_size = IMAGE_SIZE,\n",
        "        activation = 'softmax',\n",
        "        pretrained = True,\n",
        "        include_top = False,\n",
        "        pretrained_top = False,\n",
        "        classes = len(classes))"
      ],
      "metadata": {
        "id": "Qrmd28sIllkq"
      },
      "execution_count": 21,
      "outputs": []
    },
    {
      "cell_type": "code",
      "source": [
        "from tensorflow.keras.layers import Conv2D, Dense, MaxPooling2D, Flatten, Dropout, BatchNormalization, GlobalMaxPooling2D\n",
        "\n",
        "x = tf.keras.layers.Flatten()(vit_model.output)\n",
        "x = Dense(512, activation='relu')(x)\n",
        "x = Dropout(0.25)(x)\n",
        "x = Dense(512, activation='relu')(x)\n",
        "x = Dropout(0.25)(x)\n",
        "output = Dense(len(classes), activation='softmax')(x)\n",
        "model = tf.keras.models.Model(vit_model.input, output) \n",
        "\n",
        "\n",
        "for layer in range(len(vit_model.layers)):\n",
        "    vit_model.layers[layer].treinable=False"
      ],
      "metadata": {
        "id": "-_MyJ9lmCk6A"
      },
      "execution_count": 22,
      "outputs": []
    },
    {
      "cell_type": "code",
      "source": [
        "learning_rate = 1e-4\n",
        "\n",
        "optimizer = tfa.optimizers.RectifiedAdam(learning_rate = learning_rate)\n",
        "\n",
        "model.compile(optimizer = optimizer, \n",
        "              loss = tf.keras.losses.CategoricalCrossentropy(label_smoothing = 0.2), \n",
        "              metrics = ['accuracy'])\n",
        "\n",
        "\n",
        "STEP_SIZE_TRAIN = train_set.n // train_set.batch_size\n",
        "STEP_SIZE_VALID = val_set.n // val_set.batch_size\n",
        "\n",
        "reduce_lr = tf.keras.callbacks.ReduceLROnPlateau(monitor = 'val_accuracy',\n",
        "                                                 factor = 0.2,\n",
        "                                                 patience = 2,\n",
        "                                                 verbose = 1,\n",
        "                                                 min_delta = 1e-4,\n",
        "                                                 min_lr = 1e-6,\n",
        "                                                 mode = 'max')\n",
        "\n",
        "earlystopping = tf.keras.callbacks.EarlyStopping(monitor = 'val_accuracy',\n",
        "                                                 min_delta = 1e-4,\n",
        "                                                 patience = 3,\n",
        "                                                 mode = 'max',\n",
        "                                                 restore_best_weights = True,\n",
        "                                                 verbose = 1)\n",
        "\n",
        "checkpointer = tf.keras.callbacks.ModelCheckpoint(filepath = '/content/gdrive/MyDrive/model_best_7.h5',\n",
        "                                                  monitor = 'val_accuracy', \n",
        "                                                  verbose = 1, \n",
        "                                                  save_best_only = True,\n",
        "                                                  save_weights_only = True,\n",
        "                                                  mode = 'max')\n",
        "\n",
        "callbacks = [earlystopping, reduce_lr, checkpointer]\n",
        "\n",
        "model.fit(x = train_set,\n",
        "          steps_per_epoch = STEP_SIZE_TRAIN,\n",
        "          validation_data = val_set,\n",
        "          validation_steps = STEP_SIZE_VALID,\n",
        "          epochs = EPOCHS,\n",
        "          callbacks = callbacks)\n",
        "\n",
        "#model.save('model.h5', save_weights_only = True)\n",
        "\n",
        "model.load_weights('/content/gdrive/MyDrive/model_best_7.h5')\n",
        "\n",
        "learning_rate = 1e-6\n",
        "\n",
        "for layer in range(len(vit_model.layers)):\n",
        "    vit_model.layers[layer].treinable=True\n",
        "  \n",
        "\n",
        "model.compile(optimizer = optimizer, \n",
        "              loss = tf.keras.losses.CategoricalCrossentropy(label_smoothing = 0.2), \n",
        "              metrics = ['accuracy'])\n",
        "\n",
        "\n",
        "model.fit(x = train_set,\n",
        "          steps_per_epoch = STEP_SIZE_TRAIN,\n",
        "          validation_data = val_set,\n",
        "          validation_steps = STEP_SIZE_VALID,\n",
        "          epochs = EPOCHS,\n",
        "          callbacks = callbacks)\n",
        "\n",
        "model.load_weights('/content/gdrive/MyDrive/model_best_7.h5')\n"
      ],
      "metadata": {
        "colab": {
          "base_uri": "https://localhost:8080/"
        },
        "id": "iqJvsgW5Cv0Y",
        "outputId": "ab1eff88-551b-4f9d-f4f2-dc9553c0a30e"
      },
      "execution_count": 23,
      "outputs": [
        {
          "output_type": "stream",
          "name": "stdout",
          "text": [
            "Epoch 1/100\n",
            "839/839 [==============================] - ETA: 0s - loss: 1.5335 - accuracy: 0.7115\n",
            "Epoch 00001: val_accuracy improved from -inf to 0.89062, saving model to /content/gdrive/MyDrive/model_best_7.h5\n",
            "839/839 [==============================] - 1014s 1s/step - loss: 1.5335 - accuracy: 0.7115 - val_loss: 1.1780 - val_accuracy: 0.8906 - lr: 1.0000e-04\n",
            "Epoch 2/100\n",
            "839/839 [==============================] - ETA: 0s - loss: 1.0299 - accuracy: 0.9811\n",
            "Epoch 00002: val_accuracy did not improve from 0.89062\n",
            "839/839 [==============================] - 986s 1s/step - loss: 1.0299 - accuracy: 0.9811 - val_loss: 1.1145 - val_accuracy: 0.8750 - lr: 1.0000e-04\n",
            "Epoch 3/100\n",
            "839/839 [==============================] - ETA: 0s - loss: 1.0293 - accuracy: 0.9687\n",
            "Epoch 00003: ReduceLROnPlateau reducing learning rate to 1.9999999494757503e-05.\n",
            "\n",
            "Epoch 00003: val_accuracy did not improve from 0.89062\n",
            "839/839 [==============================] - 986s 1s/step - loss: 1.0293 - accuracy: 0.9687 - val_loss: 1.1740 - val_accuracy: 0.8750 - lr: 1.0000e-04\n",
            "Epoch 4/100\n",
            "839/839 [==============================] - ETA: 0s - loss: 0.9557 - accuracy: 0.9987\n",
            "Epoch 00004: val_accuracy improved from 0.89062 to 0.93750, saving model to /content/gdrive/MyDrive/model_best_7.h5\n",
            "839/839 [==============================] - 992s 1s/step - loss: 0.9557 - accuracy: 0.9987 - val_loss: 1.0367 - val_accuracy: 0.9375 - lr: 2.0000e-05\n",
            "Epoch 5/100\n",
            "839/839 [==============================] - ETA: 0s - loss: 0.9463 - accuracy: 0.9999\n",
            "Epoch 00005: val_accuracy did not improve from 0.93750\n",
            "839/839 [==============================] - 985s 1s/step - loss: 0.9463 - accuracy: 0.9999 - val_loss: 1.0361 - val_accuracy: 0.9375 - lr: 2.0000e-05\n",
            "Epoch 6/100\n",
            "839/839 [==============================] - ETA: 0s - loss: 0.9429 - accuracy: 1.0000\n",
            "Epoch 00006: ReduceLROnPlateau reducing learning rate to 3.999999898951501e-06.\n",
            "\n",
            "Epoch 00006: val_accuracy did not improve from 0.93750\n",
            "839/839 [==============================] - 986s 1s/step - loss: 0.9429 - accuracy: 1.0000 - val_loss: 1.0316 - val_accuracy: 0.9375 - lr: 2.0000e-05\n",
            "Epoch 7/100\n",
            "839/839 [==============================] - ETA: 0s - loss: 0.9412 - accuracy: 1.0000Restoring model weights from the end of the best epoch: 4.\n",
            "\n",
            "Epoch 00007: val_accuracy did not improve from 0.93750\n",
            "839/839 [==============================] - 984s 1s/step - loss: 0.9412 - accuracy: 1.0000 - val_loss: 1.0336 - val_accuracy: 0.9375 - lr: 4.0000e-06\n",
            "Epoch 00007: early stopping\n",
            "Epoch 1/100\n",
            "839/839 [==============================] - ETA: 0s - loss: 0.9472 - accuracy: 1.0000\n",
            "Epoch 00001: val_accuracy improved from 0.93750 to 0.95312, saving model to /content/gdrive/MyDrive/model_best_7.h5\n",
            "839/839 [==============================] - 1011s 1s/step - loss: 0.9472 - accuracy: 1.0000 - val_loss: 1.0384 - val_accuracy: 0.9531 - lr: 4.0000e-06\n",
            "Epoch 2/100\n",
            "839/839 [==============================] - ETA: 0s - loss: 0.9444 - accuracy: 1.0000\n",
            "Epoch 00002: val_accuracy did not improve from 0.95312\n",
            "839/839 [==============================] - 984s 1s/step - loss: 0.9444 - accuracy: 1.0000 - val_loss: 1.0487 - val_accuracy: 0.9453 - lr: 4.0000e-06\n",
            "Epoch 3/100\n",
            "839/839 [==============================] - ETA: 0s - loss: 0.9435 - accuracy: 1.0000\n",
            "Epoch 00003: ReduceLROnPlateau reducing learning rate to 1e-06.\n",
            "\n",
            "Epoch 00003: val_accuracy did not improve from 0.95312\n",
            "839/839 [==============================] - 984s 1s/step - loss: 0.9435 - accuracy: 1.0000 - val_loss: 1.0307 - val_accuracy: 0.9453 - lr: 4.0000e-06\n",
            "Epoch 4/100\n",
            "839/839 [==============================] - ETA: 0s - loss: 0.9419 - accuracy: 1.0000Restoring model weights from the end of the best epoch: 1.\n",
            "\n",
            "Epoch 00004: val_accuracy did not improve from 0.95312\n",
            "839/839 [==============================] - 982s 1s/step - loss: 0.9419 - accuracy: 1.0000 - val_loss: 1.0338 - val_accuracy: 0.9531 - lr: 1.0000e-06\n",
            "Epoch 00004: early stopping\n"
          ]
        }
      ]
    },
    {
      "cell_type": "code",
      "source": [
        "classes={\n",
        "    'Codega':'CD',\n",
        "    'Malvasia Fina':'MF',\n",
        "    'Malvasia Preta':'MP',\n",
        "    'Malvasia Rei':'MR',\n",
        "    'Moscatel Galego':'MG',\n",
        "    'Mourisco Tinto':'MT',\n",
        "    'Rabigato':'RG',\n",
        "    'Tinta Amarela':'TA',\n",
        "    'Tinta Barroca':'TB',\n",
        "    'Tinta Roriz':'TR',\n",
        "    'Tinto Cao':'TC',\n",
        "    'Touriga Nacional':'TN'\n",
        "}\n",
        "\n",
        "model.load_weights('/content/gdrive/MyDrive/model_best_7.h5')\n",
        "from sklearn import metrics\n",
        "import itertools\n",
        "\n",
        "def plot_confusion_matrix(cm, classes,\n",
        "                        normalize=False,\n",
        "                        title='Confusion matrix',\n",
        "                        cmap=plt.cm.Blues):\n",
        "    \"\"\"\n",
        "    This function prints and plots the confusion matrix.\n",
        "    Normalization can be applied by setting `normalize=True`.\n",
        "    \"\"\"\n",
        "    plt.figure()\n",
        "    plt.imshow(cm, interpolation='nearest', cmap=cmap)\n",
        "    plt.title(title)\n",
        "    plt.colorbar()\n",
        "    tick_marks = np.arange(len(classes))\n",
        "    plt.xticks(tick_marks, classes, rotation=45)\n",
        "    plt.yticks(tick_marks, classes)\n",
        "\n",
        "    if normalize:\n",
        "        cm = cm.astype('float') / cm.sum(axis=1)[:, np.newaxis]\n",
        "        print(\"Normalized confusion matrix\")\n",
        "    else:\n",
        "        print('Confusion matrix, without normalization')\n",
        "\n",
        "    print(cm)\n",
        "\n",
        "    thresh = cm.max() / 2.\n",
        "    for i, j in itertools.product(range(cm.shape[0]), range(cm.shape[1])):\n",
        "        plt.text(j, i, cm[i, j],\n",
        "            horizontalalignment=\"center\",\n",
        "            color=\"white\" if cm[i, j] > thresh else \"black\")\n",
        "\n",
        "    plt.tight_layout()\n",
        "    plt.ylabel('True label')\n",
        "    plt.xlabel('Predicted label')\n",
        "\n",
        "def confusion_matrix(test_data_generator, model):\n",
        "  test_data_generator.reset()\n",
        "  predictions = model.predict(test_data_generator, steps=test_set.samples)\n",
        "  # Get most likely class\n",
        "  predicted_classes = np.argmax(predictions, axis=1)\n",
        "  true_classes = test_data_generator.classes\n",
        "  class_labels = list(test_data_generator.class_indices.keys())\n",
        "  print(class_labels)\n",
        "  class_labels = [classes[x] for x in class_labels]  \n",
        "\n",
        "  report = metrics.classification_report(true_classes, predicted_classes, target_names=class_labels)\n",
        "  cm = metrics.confusion_matrix(true_classes, predicted_classes)\n",
        "  print(report)\n",
        "  plot_confusion_matrix(cm, class_labels)\n",
        "\n",
        "\n",
        "confusion_matrix(test_set, model)"
      ],
      "metadata": {
        "id": "P03ty_iOuIXc",
        "colab": {
          "base_uri": "https://localhost:8080/",
          "height": 948
        },
        "outputId": "17858351-f7a1-47e1-9842-9f4cc90a2213"
      },
      "execution_count": 24,
      "outputs": [
        {
          "output_type": "stream",
          "name": "stdout",
          "text": [
            "['Codega', 'Malvasia Fina', 'Malvasia Preta', 'Malvasia Rei', 'Moscatel Galego', 'Mourisco Tinto', 'Rabigato', 'Tinta Amarela', 'Tinta Barroca', 'Tinta Roriz', 'Tinto Cao', 'Touriga Nacional']\n",
            "              precision    recall  f1-score   support\n",
            "\n",
            "          CD       1.00      0.67      0.80         6\n",
            "          MF       1.00      0.83      0.91         6\n",
            "          MP       1.00      1.00      1.00         6\n",
            "          MR       0.67      1.00      0.80         6\n",
            "          MG       1.00      1.00      1.00         6\n",
            "          MT       1.00      1.00      1.00         6\n",
            "          RG       1.00      1.00      1.00         6\n",
            "          TA       1.00      1.00      1.00         6\n",
            "          TB       1.00      1.00      1.00         6\n",
            "          TR       1.00      1.00      1.00         6\n",
            "          TC       1.00      1.00      1.00         6\n",
            "          TN       1.00      1.00      1.00         6\n",
            "\n",
            "    accuracy                           0.96        72\n",
            "   macro avg       0.97      0.96      0.96        72\n",
            "weighted avg       0.97      0.96      0.96        72\n",
            "\n",
            "Confusion matrix, without normalization\n",
            "[[4 0 0 2 0 0 0 0 0 0 0 0]\n",
            " [0 5 0 1 0 0 0 0 0 0 0 0]\n",
            " [0 0 6 0 0 0 0 0 0 0 0 0]\n",
            " [0 0 0 6 0 0 0 0 0 0 0 0]\n",
            " [0 0 0 0 6 0 0 0 0 0 0 0]\n",
            " [0 0 0 0 0 6 0 0 0 0 0 0]\n",
            " [0 0 0 0 0 0 6 0 0 0 0 0]\n",
            " [0 0 0 0 0 0 0 6 0 0 0 0]\n",
            " [0 0 0 0 0 0 0 0 6 0 0 0]\n",
            " [0 0 0 0 0 0 0 0 0 6 0 0]\n",
            " [0 0 0 0 0 0 0 0 0 0 6 0]\n",
            " [0 0 0 0 0 0 0 0 0 0 0 6]]\n"
          ]
        },
        {
          "output_type": "display_data",
          "data": {
            "image/png": "[encoded data removed]",
            "text/plain": [
              "<Figure size 432x288 with 2 Axes>"
            ]
          },
          "metadata": {
            "needs_background": "light"
          }
        }
      ]
    },
    {
      "cell_type": "code",
      "source": [
        "dot_img_file = 'model_1.png'\n",
        "tf.keras.utils.plot_model(model, to_file=dot_img_file, show_shapes=True)\n",
        "\n",
        "model.summary()"
      ],
      "metadata": {
        "id": "YilmpsdwXhWI",
        "colab": {
          "base_uri": "https://localhost:8080/"
        },
        "outputId": "9114d432-51fe-46a0-9a1a-e6dd90419046"
      },
      "execution_count": 25,
      "outputs": [
        {
          "output_type": "stream",
          "name": "stdout",
          "text": [
            "Model: \"model_1\"\n",
            "_________________________________________________________________\n",
            " Layer (type)                Output Shape              Param #   \n",
            "=================================================================\n",
            " input_2 (InputLayer)        [(None, 384, 384, 3)]     0         \n",
            "                                                                 \n",
            " embedding (Conv2D)          (None, 24, 24, 768)       590592    \n",
            "                                                                 \n",
            " reshape_1 (Reshape)         (None, 576, 768)          0         \n",
            "                                                                 \n",
            " class_token (ClassToken)    (None, 577, 768)          768       \n",
            "                                                                 \n",
            " Transformer/posembed_input   (None, 577, 768)         443136    \n",
            " (AddPositionEmbs)                                               \n",
            "                                                                 \n",
            " Transformer/encoderblock_0   ((None, 577, 768),       7087872   \n",
            " (TransformerBlock)           (None, 12, None, None))            \n",
            "                                                                 \n",
            " Transformer/encoderblock_1   ((None, 577, 768),       7087872   \n",
            " (TransformerBlock)           (None, 12, None, None))            \n",
            "                                                                 \n",
            " Transformer/encoderblock_2   ((None, 577, 768),       7087872   \n",
            " (TransformerBlock)           (None, 12, None, None))            \n",
            "                                                                 \n",
            " Transformer/encoderblock_3   ((None, 577, 768),       7087872   \n",
            " (TransformerBlock)           (None, 12, None, None))            \n",
            "                                                                 \n",
            " Transformer/encoderblock_4   ((None, 577, 768),       7087872   \n",
            " (TransformerBlock)           (None, 12, None, None))            \n",
            "                                                                 \n",
            " Transformer/encoderblock_5   ((None, 577, 768),       7087872   \n",
            " (TransformerBlock)           (None, 12, None, None))            \n",
            "                                                                 \n",
            " Transformer/encoderblock_6   ((None, 577, 768),       7087872   \n",
            " (TransformerBlock)           (None, 12, None, None))            \n",
            "                                                                 \n",
            " Transformer/encoderblock_7   ((None, 577, 768),       7087872   \n",
            " (TransformerBlock)           (None, 12, None, None))            \n",
            "                                                                 \n",
            " Transformer/encoderblock_8   ((None, 577, 768),       7087872   \n",
            " (TransformerBlock)           (None, 12, None, None))            \n",
            "                                                                 \n",
            " Transformer/encoderblock_9   ((None, 577, 768),       7087872   \n",
            " (TransformerBlock)           (None, 12, None, None))            \n",
            "                                                                 \n",
            " Transformer/encoderblock_10  ((None, 577, 768),       7087872   \n",
            "  (TransformerBlock)          (None, 12, None, None))            \n",
            "                                                                 \n",
            " Transformer/encoderblock_11  ((None, 577, 768),       7087872   \n",
            "  (TransformerBlock)          (None, 12, None, None))            \n",
            "                                                                 \n",
            " Transformer/encoder_norm (L  (None, 577, 768)         1536      \n",
            " ayerNormalization)                                              \n",
            "                                                                 \n",
            " ExtractToken (Lambda)       (None, 768)               0         \n",
            "                                                                 \n",
            " flatten_1 (Flatten)         (None, 768)               0         \n",
            "                                                                 \n",
            " dense_3 (Dense)             (None, 512)               393728    \n",
            "                                                                 \n",
            " dropout_2 (Dropout)         (None, 512)               0         \n",
            "                                                                 \n",
            " dense_4 (Dense)             (None, 512)               262656    \n",
            "                                                                 \n",
            " dropout_3 (Dropout)         (None, 512)               0         \n",
            "                                                                 \n",
            " dense_5 (Dense)             (None, 12)                6156      \n",
            "                                                                 \n",
            "=================================================================\n",
            "Total params: 86,753,036\n",
            "Trainable params: 86,753,036\n",
            "Non-trainable params: 0\n",
            "_________________________________________________________________\n"
          ]
        }
      ]
    }
  ]
}