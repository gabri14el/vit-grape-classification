{
  "cells": [
    {
      "cell_type": "markdown",
      "metadata": {
        "id": "X7W7v1i4gVn4"
      },
      "source": [
        "Baixando e extraindo o dataset:"
      ]
    },
    {
      "cell_type": "markdown",
      "metadata": {
        "id": "z9T4CFWtdR8r"
      },
      "source": [
        "Importando as bibliotecas necessárias."
      ]
    },
    {
      "cell_type": "code",
      "execution_count": 10,
      "metadata": {
        "colab": {
          "base_uri": "https://localhost:8080/"
        },
        "id": "2qveJTWbdV3z",
        "outputId": "7c1c0266-7e06-4be4-cbad-b2a6548de507"
      },
      "outputs": [
        {
          "name": "stdout",
          "output_type": "stream",
          "text": [
            "Requirement already satisfied: tensorflow_addons in /usr/local/lib/python3.7/dist-packages (0.15.0)\n",
            "Requirement already satisfied: typeguard>=2.7 in /usr/local/lib/python3.7/dist-packages (from tensorflow_addons) (2.7.1)\n",
            "TensorFlow Version 2.7.0\n"
          ]
        }
      ],
      "source": [
        "!pip install tensorflow_addons\n",
        "import pandas as pd\n",
        "import numpy as np\n",
        "import tensorflow as tf\n",
        "import tensorflow_addons as tfa\n",
        "import glob, warnings\n",
        "import matplotlib.pyplot as plt\n",
        "from sklearn.metrics import confusion_matrix, classification_report\n",
        "import seaborn as sns\n",
        "import os\n",
        "\n",
        "warnings.filterwarnings('ignore')\n",
        "print('TensorFlow Version ' + tf.__version__)"
      ]
    },
    {
      "cell_type": "code",
      "execution_count": 11,
      "metadata": {
        "colab": {
          "base_uri": "https://localhost:8080/"
        },
        "id": "yyTsMj2Jt086",
        "outputId": "125f091d-5a5c-4f00-d968-4a1d2d00d9e4"
      },
      "outputs": [
        {
          "name": "stdout",
          "output_type": "stream",
          "text": [
            "Drive already mounted at /content/gdrive; to attempt to forcibly remount, call drive.mount(\"/content/gdrive\", force_remount=True).\n"
          ]
        }
      ],
      "source": [
        "from google.colab import drive\n",
        "drive._mount('/content/gdrive')"
      ]
    },
    {
      "cell_type": "code",
      "execution_count": 12,
      "metadata": {
        "id": "RwM6JCdbiZQ0"
      },
      "outputs": [],
      "source": [
        "IMAGE_SIZE = 224\n",
        "BATCH_SIZE = 16\n",
        "EPOCHS = 100\n",
        "\n",
        "diretorio = 'dataset_aumentado'\n",
        "\n",
        "TRAIN_PATH = os.path.join(diretorio, 'train')\n",
        "TEST_PATH = os.path.join(diretorio, 'test')\n",
        "VALIDATION_PATH = os.path.join(diretorio, 'validation')\n",
        "\n",
        "classes={\n",
        "    0:'CD',\n",
        "    1:'MF',\n",
        "    2:'MP',\n",
        "    3:'MR',\n",
        "    4:'MG',\n",
        "    5:'MT',\n",
        "    6:'RG',\n",
        "    7:'TA',\n",
        "    8:'TB',\n",
        "    9:'TR',\n",
        "    10:'TC',\n",
        "    11:'TN'\n",
        "}"
      ]
    },
    {
      "cell_type": "code",
      "execution_count": 13,
      "metadata": {
        "id": "J1PpkIdmvyBA"
      },
      "outputs": [],
      "source": [
        "import tensorflow.keras.backend as K\n",
        "import math\n",
        "def recall_m(y_true, y_pred):\n",
        "    true_positives = K.sum(K.round(K.clip(y_true * y_pred, 0, 1)))\n",
        "    possible_positives = K.sum(K.round(K.clip(y_true, 0, 1)))\n",
        "    recall = true_positives / (possible_positives + K.epsilon())\n",
        "    return recall\n",
        "\n",
        "def precision_m(y_true, y_pred):\n",
        "    true_positives = K.sum(K.round(K.clip(y_true * y_pred, 0, 1)))\n",
        "    predicted_positives = K.sum(K.round(K.clip(y_pred, 0, 1)))\n",
        "    precision = true_positives / (predicted_positives + K.epsilon())\n",
        "    return precision\n",
        "\n",
        "def f1_m(y_true, y_pred):\n",
        "    precision = precision_m(y_true, y_pred)\n",
        "    recall = recall_m(y_true, y_pred)\n",
        "    return 2*((precision*recall)/(precision+recall+K.epsilon()))\n",
        "\n",
        "#------------------------\n",
        "#step decay para o SGD\n",
        "def step_decay1(epoch):\n",
        "   initial_lrate = 0.01\n",
        "   flattern_factor = initial_lrate ** 2.25\n",
        "   epochs_drop = 5.0\n",
        "   #drop modelado como modelado no artigo\n",
        "   drop = initial_lrate **(flattern_factor/epochs_drop)\n",
        "   \n",
        "   lrate = initial_lrate * math.pow(drop,  \n",
        "           math.floor((epoch)/epochs_drop))\n",
        "   return lrate\n",
        "\n",
        "#step decay\n",
        "def step_decay2(epoch):\n",
        "   initial_lrate = 0.0001\n",
        "   flattern_factor = initial_lrate ** 2.25\n",
        "   epochs_drop = 5.0\n",
        "   #drop modelado como modelado no artigo\n",
        "   drop = initial_lrate **(flattern_factor/epochs_drop)\n",
        "   \n",
        "   lrate = initial_lrate * math.pow(drop,  \n",
        "           math.floor((epoch)/epochs_drop))\n",
        "   return lrate"
      ]
    },
    {
      "cell_type": "code",
      "execution_count": 14,
      "metadata": {
        "colab": {
          "base_uri": "https://localhost:8080/"
        },
        "id": "keKbeo__kZDa",
        "outputId": "74791d57-023d-4bf1-ddb5-060229e302d5"
      },
      "outputs": [
        {
          "name": "stdout",
          "output_type": "stream",
          "text": [
            "Found 6718 images belonging to 12 classes.\n",
            "Found 132 images belonging to 12 classes.\n",
            "Found 72 images belonging to 12 classes.\n"
          ]
        }
      ],
      "source": [
        "train_datagen = tf.keras.preprocessing.image.ImageDataGenerator(preprocessing_function=vit.preprocess_inputs)\n",
        "\n",
        "val_datagen = tf.keras.preprocessing.image.ImageDataGenerator(preprocessing_function=vit.preprocess_inputs)\n",
        "\n",
        "test_datagen = tf.keras.preprocessing.image.ImageDataGenerator(preprocessing_function=vit.preprocess_inputs)\n",
        "\n",
        "train_set = train_datagen.flow_from_directory(TRAIN_PATH,\n",
        "                                              target_size=(IMAGE_SIZE, IMAGE_SIZE),\n",
        "                                              class_mode='categorical',\n",
        "                                              batch_size=BATCH_SIZE)\n",
        "\n",
        "val_set = train_datagen.flow_from_directory(VALIDATION_PATH,\n",
        "                                              target_size=(IMAGE_SIZE, IMAGE_SIZE),\n",
        "                                              class_mode='categorical',\n",
        "                                              batch_size=BATCH_SIZE)\n",
        "\n",
        "test_set = test_datagen.flow_from_directory(TEST_PATH, \n",
        "                                            target_size=(IMAGE_SIZE, IMAGE_SIZE),\n",
        "                                            class_mode='categorical',\n",
        "                                            batch_size=1,\n",
        "                                            shuffle=False)"
      ]
    },
    {
      "cell_type": "code",
      "execution_count": 15,
      "metadata": {
        "id": "cxyZvmvjlIts"
      },
      "outputs": [],
      "source": [
        "!pip install --quiet vit-keras\n",
        "\n",
        "from vit_keras import vit"
      ]
    },
    {
      "cell_type": "code",
      "execution_count": 16,
      "metadata": {
        "colab": {
          "base_uri": "https://localhost:8080/"
        },
        "id": "Qrmd28sIllkq",
        "outputId": "aac2c5eb-4998-45a7-ff0b-b762147f4b8b"
      },
      "outputs": [
        {
          "name": "stdout",
          "output_type": "stream",
          "text": [
            "Downloading data from https://github.com/faustomorales/vit-keras/releases/download/dl/ViT-B_32_imagenet21k+imagenet2012.npz\n",
            "353255424/353253686 [==============================] - 14s 0us/step\n",
            "353263616/353253686 [==============================] - 14s 0us/step\n"
          ]
        }
      ],
      "source": [
        "vit_model = vit.vit_b32(\n",
        "        image_size = IMAGE_SIZE,\n",
        "        activation = 'softmax',\n",
        "        pretrained = True,\n",
        "        include_top = False,\n",
        "        pretrained_top = False,\n",
        "        classes = len(classes))"
      ]
    },
    {
      "cell_type": "code",
      "execution_count": 17,
      "metadata": {
        "id": "-_MyJ9lmCk6A"
      },
      "outputs": [],
      "source": [
        "from tensorflow.keras.layers import Conv2D, Dense, MaxPooling2D, Flatten, Dropout, BatchNormalization, GlobalMaxPooling2D\n",
        "\n",
        "x = tf.keras.layers.Flatten()(vit_model.output)\n",
        "x = Dense(512, activation='relu')(x)\n",
        "x = Dropout(0.25)(x)\n",
        "x = Dense(512, activation='relu')(x)\n",
        "x = Dropout(0.25)(x)\n",
        "output = Dense(len(classes), activation='softmax')(x)\n",
        "model = tf.keras.models.Model(vit_model.input, output) \n",
        "\n",
        "\n",
        "for layer in range(len(vit_model.layers)):\n",
        "    vit_model.layers[layer].treinable=False"
      ]
    },
    {
      "cell_type": "code",
      "execution_count": 18,
      "metadata": {
        "colab": {
          "base_uri": "https://localhost:8080/"
        },
        "id": "iqJvsgW5Cv0Y",
        "outputId": "90a65a3f-1e99-4105-8105-c51be386f280"
      },
      "outputs": [
        {
          "name": "stdout",
          "output_type": "stream",
          "text": [
            "Epoch 1/100\n",
            "419/419 [==============================] - ETA: 0s - loss: 1.8851 - accuracy: 0.4916 - f1_m: 0.2803 - precision_m: 0.6273 - recall_m: 0.1952\n",
            "Epoch 00001: val_accuracy improved from -inf to 0.64062, saving model to /content/gdrive/MyDrive/model_best7_v0.h5\n",
            "419/419 [==============================] - 189s 389ms/step - loss: 1.8851 - accuracy: 0.4916 - f1_m: 0.2803 - precision_m: 0.6273 - recall_m: 0.1952 - val_loss: 1.6031 - val_accuracy: 0.6406 - val_f1_m: 0.5538 - val_precision_m: 0.8108 - val_recall_m: 0.4297 - lr: 0.0100\n",
            "Epoch 2/100\n",
            "419/419 [==============================] - ETA: 0s - loss: 1.3839 - accuracy: 0.7926 - f1_m: 0.6928 - precision_m: 0.9266 - recall_m: 0.5634\n",
            "Epoch 00002: val_accuracy improved from 0.64062 to 0.75781, saving model to /content/gdrive/MyDrive/model_best7_v0.h5\n",
            "419/419 [==============================] - 161s 385ms/step - loss: 1.3839 - accuracy: 0.7926 - f1_m: 0.6928 - precision_m: 0.9266 - recall_m: 0.5634 - val_loss: 1.4012 - val_accuracy: 0.7578 - val_f1_m: 0.7171 - val_precision_m: 0.9206 - val_recall_m: 0.5938 - lr: 0.0100\n",
            "Epoch 3/100\n",
            "419/419 [==============================] - ETA: 0s - loss: 1.2067 - accuracy: 0.9021 - f1_m: 0.8325 - precision_m: 0.9686 - recall_m: 0.7365\n",
            "Epoch 00003: val_accuracy improved from 0.75781 to 0.78125, saving model to /content/gdrive/MyDrive/model_best7_v0.h5\n",
            "419/419 [==============================] - 161s 384ms/step - loss: 1.2067 - accuracy: 0.9021 - f1_m: 0.8325 - precision_m: 0.9686 - recall_m: 0.7365 - val_loss: 1.3439 - val_accuracy: 0.7812 - val_f1_m: 0.7706 - val_precision_m: 0.9303 - val_recall_m: 0.6641 - lr: 0.0100\n",
            "Epoch 4/100\n",
            "419/419 [==============================] - ETA: 0s - loss: 1.1293 - accuracy: 0.9466 - f1_m: 0.8904 - precision_m: 0.9859 - recall_m: 0.8175\n",
            "Epoch 00004: val_accuracy improved from 0.78125 to 0.82812, saving model to /content/gdrive/MyDrive/model_best7_v0.h5\n",
            "419/419 [==============================] - 162s 385ms/step - loss: 1.1293 - accuracy: 0.9466 - f1_m: 0.8904 - precision_m: 0.9859 - recall_m: 0.8175 - val_loss: 1.2624 - val_accuracy: 0.8281 - val_f1_m: 0.7994 - val_precision_m: 0.9560 - val_recall_m: 0.6953 - lr: 0.0100\n",
            "Epoch 5/100\n",
            "419/419 [==============================] - ETA: 0s - loss: 1.0841 - accuracy: 0.9718 - f1_m: 0.9257 - precision_m: 0.9926 - recall_m: 0.8711\n",
            "Epoch 00005: val_accuracy improved from 0.82812 to 0.85156, saving model to /content/gdrive/MyDrive/model_best7_v0.h5\n",
            "419/419 [==============================] - 161s 385ms/step - loss: 1.0841 - accuracy: 0.9718 - f1_m: 0.9257 - precision_m: 0.9926 - recall_m: 0.8711 - val_loss: 1.2649 - val_accuracy: 0.8516 - val_f1_m: 0.7896 - val_precision_m: 0.9253 - val_recall_m: 0.6953 - lr: 0.0100\n",
            "Epoch 6/100\n",
            "419/419 [==============================] - ETA: 0s - loss: 1.0589 - accuracy: 0.9812 - f1_m: 0.9407 - precision_m: 0.9961 - recall_m: 0.8941\n",
            "Epoch 00006: val_accuracy did not improve from 0.85156\n",
            "419/419 [==============================] - 157s 375ms/step - loss: 1.0589 - accuracy: 0.9812 - f1_m: 0.9407 - precision_m: 0.9961 - recall_m: 0.8941 - val_loss: 1.2677 - val_accuracy: 0.8359 - val_f1_m: 0.7855 - val_precision_m: 0.9342 - val_recall_m: 0.6875 - lr: 0.0100\n",
            "Epoch 7/100\n",
            "419/419 [==============================] - ETA: 0s - loss: 1.0371 - accuracy: 0.9887 - f1_m: 0.9567 - precision_m: 0.9982 - recall_m: 0.9208\n",
            "Epoch 00007: ReduceLROnPlateau reducing learning rate to 0.0019999999552965165.\n",
            "\n",
            "Epoch 00007: val_accuracy did not improve from 0.85156\n",
            "419/419 [==============================] - 157s 374ms/step - loss: 1.0371 - accuracy: 0.9887 - f1_m: 0.9567 - precision_m: 0.9982 - recall_m: 0.9208 - val_loss: 1.2610 - val_accuracy: 0.8203 - val_f1_m: 0.8086 - val_precision_m: 0.9403 - val_recall_m: 0.7109 - lr: 0.0100\n",
            "Epoch 8/100\n",
            "419/419 [==============================] - ETA: 0s - loss: 1.0191 - accuracy: 0.9934 - f1_m: 0.9661 - precision_m: 0.9990 - recall_m: 0.9373Restoring model weights from the end of the best epoch: 5.\n",
            "\n",
            "Epoch 00008: val_accuracy did not improve from 0.85156\n",
            "419/419 [==============================] - 158s 376ms/step - loss: 1.0191 - accuracy: 0.9934 - f1_m: 0.9661 - precision_m: 0.9990 - recall_m: 0.9373 - val_loss: 1.2608 - val_accuracy: 0.8281 - val_f1_m: 0.7899 - val_precision_m: 0.9499 - val_recall_m: 0.6797 - lr: 0.0020\n",
            "Epoch 00008: early stopping\n"
          ]
        },
        {
          "data": {
            "text/plain": [
              "<keras.callbacks.History at 0x7f3d9c60e190>"
            ]
          },
          "execution_count": 18,
          "metadata": {},
          "output_type": "execute_result"
        }
      ],
      "source": [
        "learning_rate = 1e-4\n",
        "\n",
        "optimizer = tfa.optimizers.RectifiedAdam(learning_rate = learning_rate)\n",
        "\n",
        "model.compile(optimizer = optimizer, \n",
        "              loss = tf.keras.losses.CategoricalCrossentropy(label_smoothing = 0.2), \n",
        "              metrics=['accuracy', f1_m,precision_m, recall_m])\n",
        "\n",
        "model.compile(optimizer='sgd', loss = tf.keras.losses.CategoricalCrossentropy(label_smoothing = 0.2),\n",
        "           metrics=['accuracy', f1_m,precision_m, recall_m])\n",
        "\n",
        "\n",
        "\n",
        "STEP_SIZE_TRAIN = train_set.n // train_set.batch_size\n",
        "STEP_SIZE_VALID = val_set.n // val_set.batch_size\n",
        "\n",
        "reduce_lr = tf.keras.callbacks.ReduceLROnPlateau(monitor = 'val_accuracy',\n",
        "                                                 factor = 0.2,\n",
        "                                                 patience = 2,\n",
        "                                                 verbose = 1,\n",
        "                                                 min_delta = 1e-4,\n",
        "                                                 min_lr = 1e-6,\n",
        "                                                 mode = 'max')\n",
        "\n",
        "earlystopping = tf.keras.callbacks.EarlyStopping(monitor = 'val_accuracy',\n",
        "                                                 min_delta = 1e-4,\n",
        "                                                 patience = 3,\n",
        "                                                 mode = 'max',\n",
        "                                                 restore_best_weights = True,\n",
        "                                                 verbose = 1)\n",
        "\n",
        "checkpointer = tf.keras.callbacks.ModelCheckpoint(filepath = '/content/gdrive/MyDrive/model_best7_v0.h5',\n",
        "                                                  monitor = 'val_accuracy', \n",
        "                                                  verbose = 1, \n",
        "                                                  save_best_only = True,\n",
        "                                                  save_weights_only = True,\n",
        "                                                  mode = 'max')\n",
        "\n",
        "callbacks = [earlystopping, reduce_lr, checkpointer]\n",
        "\n",
        "\n",
        "\n",
        "model.fit(x = train_set,\n",
        "          steps_per_epoch = STEP_SIZE_TRAIN,\n",
        "          validation_data = val_set,\n",
        "          validation_steps = STEP_SIZE_VALID,\n",
        "          epochs = EPOCHS,\n",
        "          callbacks = callbacks)"
      ]
    },
    {
      "cell_type": "code",
      "execution_count": 20,
      "metadata": {
        "colab": {
          "base_uri": "https://localhost:8080/"
        },
        "id": "_tgVxCdv-gOX",
        "outputId": "d0735ecf-311b-4045-9829-baf0887b5618"
      },
      "outputs": [
        {
          "name": "stdout",
          "output_type": "stream",
          "text": [
            "Epoch 1/100\n",
            "419/419 [==============================] - ETA: 0s - loss: 1.0626 - accuracy: 0.9758\n",
            "Epoch 00001: val_accuracy did not improve from 0.85156\n",
            "419/419 [==============================] - 231s 482ms/step - loss: 1.0626 - accuracy: 0.9758 - val_loss: 1.3217 - val_accuracy: 0.7734 - lr: 1.0000e-04\n",
            "Epoch 2/100\n",
            "419/419 [==============================] - ETA: 0s - loss: 1.0217 - accuracy: 0.9887\n",
            "Epoch 00002: val_accuracy improved from 0.85156 to 0.85938, saving model to /content/gdrive/MyDrive/model_best7_v0.h5\n",
            "419/419 [==============================] - 200s 477ms/step - loss: 1.0217 - accuracy: 0.9887 - val_loss: 1.1890 - val_accuracy: 0.8594 - lr: 1.0000e-04\n",
            "Epoch 3/100\n",
            "419/419 [==============================] - ETA: 0s - loss: 1.0154 - accuracy: 0.9794\n",
            "Epoch 00003: val_accuracy did not improve from 0.85938\n",
            "419/419 [==============================] - 198s 473ms/step - loss: 1.0154 - accuracy: 0.9794 - val_loss: 1.3450 - val_accuracy: 0.7812 - lr: 1.0000e-04\n",
            "Epoch 4/100\n",
            "419/419 [==============================] - ETA: 0s - loss: 1.0070 - accuracy: 0.9809\n",
            "Epoch 00004: val_accuracy improved from 0.85938 to 0.86719, saving model to /content/gdrive/MyDrive/model_best7_v0.h5\n",
            "419/419 [==============================] - 202s 482ms/step - loss: 1.0070 - accuracy: 0.9809 - val_loss: 1.2234 - val_accuracy: 0.8672 - lr: 1.0000e-04\n",
            "Epoch 5/100\n",
            "419/419 [==============================] - ETA: 0s - loss: 0.9666 - accuracy: 0.9924\n",
            "Epoch 00005: val_accuracy did not improve from 0.86719\n",
            "419/419 [==============================] - 198s 473ms/step - loss: 0.9666 - accuracy: 0.9924 - val_loss: 1.2951 - val_accuracy: 0.8281 - lr: 1.0000e-04\n",
            "Epoch 6/100\n",
            "419/419 [==============================] - ETA: 0s - loss: 0.9581 - accuracy: 0.9958\n",
            "Epoch 00006: val_accuracy improved from 0.86719 to 0.88281, saving model to /content/gdrive/MyDrive/model_best7_v0.h5\n",
            "419/419 [==============================] - 202s 482ms/step - loss: 0.9581 - accuracy: 0.9958 - val_loss: 1.1848 - val_accuracy: 0.8828 - lr: 1.0000e-04\n",
            "Epoch 7/100\n",
            "419/419 [==============================] - ETA: 0s - loss: 0.9412 - accuracy: 1.0000\n",
            "Epoch 00007: val_accuracy improved from 0.88281 to 0.90625, saving model to /content/gdrive/MyDrive/model_best7_v0.h5\n",
            "419/419 [==============================] - 202s 483ms/step - loss: 0.9412 - accuracy: 1.0000 - val_loss: 1.1226 - val_accuracy: 0.9062 - lr: 1.0000e-04\n",
            "Epoch 8/100\n",
            "419/419 [==============================] - ETA: 0s - loss: 0.9387 - accuracy: 1.0000\n",
            "Epoch 00008: val_accuracy did not improve from 0.90625\n",
            "419/419 [==============================] - 198s 473ms/step - loss: 0.9387 - accuracy: 1.0000 - val_loss: 1.1300 - val_accuracy: 0.8984 - lr: 1.0000e-04\n",
            "Epoch 9/100\n",
            "419/419 [==============================] - ETA: 0s - loss: 0.9590 - accuracy: 0.9896\n",
            "Epoch 00009: ReduceLROnPlateau reducing learning rate to 1.9999999494757503e-05.\n",
            "\n",
            "Epoch 00009: val_accuracy did not improve from 0.90625\n",
            "419/419 [==============================] - 198s 472ms/step - loss: 0.9590 - accuracy: 0.9896 - val_loss: 1.6385 - val_accuracy: 0.6562 - lr: 1.0000e-04\n",
            "Epoch 10/100\n",
            "419/419 [==============================] - ETA: 0s - loss: 0.9673 - accuracy: 0.9888Restoring model weights from the end of the best epoch: 7.\n",
            "\n",
            "Epoch 00010: val_accuracy did not improve from 0.90625\n",
            "419/419 [==============================] - 198s 473ms/step - loss: 0.9673 - accuracy: 0.9888 - val_loss: 1.2138 - val_accuracy: 0.8750 - lr: 2.0000e-05\n",
            "Epoch 00010: early stopping\n"
          ]
        }
      ],
      "source": [
        "\n",
        "\n",
        "#model.save('model.h5', save_weights_only = True)\n",
        "\n",
        "model.load_weights('/content/gdrive/MyDrive/model_best7_v0.h5')\n",
        "\n",
        "learning_rate = 1e-6\n",
        "\n",
        "\n",
        "#descongela as camadas\n",
        "for layer in range(len(vit_model.layers)):\n",
        "    vit_model.layers[layer].treinable=True\n",
        "\n",
        "  \n",
        "\n",
        "model.compile(optimizer = optimizer, \n",
        "              loss = tf.keras.losses.CategoricalCrossentropy(label_smoothing = 0.2), \n",
        "              metrics = ['accuracy'])\n",
        "\n",
        "\n",
        "model.fit(x = train_set,\n",
        "          steps_per_epoch = STEP_SIZE_TRAIN,\n",
        "          validation_data = val_set,\n",
        "          validation_steps = STEP_SIZE_VALID,\n",
        "          epochs = EPOCHS,\n",
        "          callbacks = callbacks)\n",
        "\n",
        "model.load_weights('/content/gdrive/MyDrive/model_best7_v0.h5')"
      ]
    },
    {
      "cell_type": "code",
      "execution_count": 21,
      "metadata": {
        "colab": {
          "base_uri": "https://localhost:8080/",
          "height": 948
        },
        "id": "P03ty_iOuIXc",
        "outputId": "ff0782a4-06a9-4531-e389-18a9be0b6593"
      },
      "outputs": [
        {
          "name": "stdout",
          "output_type": "stream",
          "text": [
            "['Codega', 'Malvasia Fina', 'Malvasia Preta', 'Malvasia Rei', 'Moscatel Galego', 'Mourisco Tinto', 'Rabigato', 'Tinta Amarela', 'Tinta Barroca', 'Tinta Roriz', 'Tinto Cao', 'Touriga Nacional']\n",
            "              precision    recall  f1-score   support\n",
            "\n",
            "          CD       1.00      0.50      0.67         6\n",
            "          MF       0.86      1.00      0.92         6\n",
            "          MP       1.00      1.00      1.00         6\n",
            "          MR       0.60      1.00      0.75         6\n",
            "          MG       1.00      1.00      1.00         6\n",
            "          MT       1.00      0.83      0.91         6\n",
            "          RG       1.00      0.83      0.91         6\n",
            "          TA       1.00      1.00      1.00         6\n",
            "          TB       1.00      1.00      1.00         6\n",
            "          TR       1.00      1.00      1.00         6\n",
            "          TC       0.86      1.00      0.92         6\n",
            "          TN       1.00      0.83      0.91         6\n",
            "\n",
            "    accuracy                           0.92        72\n",
            "   macro avg       0.94      0.92      0.92        72\n",
            "weighted avg       0.94      0.92      0.92        72\n",
            "\n",
            "Confusion matrix, without normalization\n",
            "[[3 0 0 3 0 0 0 0 0 0 0 0]\n",
            " [0 6 0 0 0 0 0 0 0 0 0 0]\n",
            " [0 0 6 0 0 0 0 0 0 0 0 0]\n",
            " [0 0 0 6 0 0 0 0 0 0 0 0]\n",
            " [0 0 0 0 6 0 0 0 0 0 0 0]\n",
            " [0 0 0 1 0 5 0 0 0 0 0 0]\n",
            " [0 1 0 0 0 0 5 0 0 0 0 0]\n",
            " [0 0 0 0 0 0 0 6 0 0 0 0]\n",
            " [0 0 0 0 0 0 0 0 6 0 0 0]\n",
            " [0 0 0 0 0 0 0 0 0 6 0 0]\n",
            " [0 0 0 0 0 0 0 0 0 0 6 0]\n",
            " [0 0 0 0 0 0 0 0 0 0 1 5]]\n"
          ]
        },
        {
          "data": {
            "image/png": "[encoded data removed]",
            "text/plain": [
              "<Figure size 432x288 with 2 Axes>"
            ]
          },
          "metadata": {
            "needs_background": "light"
          },
          "output_type": "display_data"
        }
      ],
      "source": [
        "classes={\n",
        "    'Codega':'CD',\n",
        "    'Malvasia Fina':'MF',\n",
        "    'Malvasia Preta':'MP',\n",
        "    'Malvasia Rei':'MR',\n",
        "    'Moscatel Galego':'MG',\n",
        "    'Mourisco Tinto':'MT',\n",
        "    'Rabigato':'RG',\n",
        "    'Tinta Amarela':'TA',\n",
        "    'Tinta Barroca':'TB',\n",
        "    'Tinta Roriz':'TR',\n",
        "    'Tinto Cao':'TC',\n",
        "    'Touriga Nacional':'TN'\n",
        "}\n",
        "\n",
        "from sklearn import metrics\n",
        "import itertools\n",
        "\n",
        "def plot_confusion_matrix(cm, classes,\n",
        "                        normalize=False,\n",
        "                        title='Confusion matrix',\n",
        "                        cmap=plt.cm.Blues):\n",
        "    \"\"\"\n",
        "    This function prints and plots the confusion matrix.\n",
        "    Normalization can be applied by setting `normalize=True`.\n",
        "    \"\"\"\n",
        "    plt.figure()\n",
        "    plt.imshow(cm, interpolation='nearest', cmap=cmap)\n",
        "    plt.title(title)\n",
        "    plt.colorbar()\n",
        "    tick_marks = np.arange(len(classes))\n",
        "    plt.xticks(tick_marks, classes, rotation=45)\n",
        "    plt.yticks(tick_marks, classes)\n",
        "\n",
        "    if normalize:\n",
        "        cm = cm.astype('float') / cm.sum(axis=1)[:, np.newaxis]\n",
        "        print(\"Normalized confusion matrix\")\n",
        "    else:\n",
        "        print('Confusion matrix, without normalization')\n",
        "\n",
        "    print(cm)\n",
        "\n",
        "    thresh = cm.max() / 2.\n",
        "    for i, j in itertools.product(range(cm.shape[0]), range(cm.shape[1])):\n",
        "        plt.text(j, i, cm[i, j],\n",
        "            horizontalalignment=\"center\",\n",
        "            color=\"white\" if cm[i, j] > thresh else \"black\")\n",
        "\n",
        "    plt.tight_layout()\n",
        "    plt.ylabel('True label')\n",
        "    plt.xlabel('Predicted label')\n",
        "\n",
        "def confusion_matrix(test_data_generator, model):\n",
        "  test_data_generator.reset()\n",
        "  predictions = model.predict(test_data_generator, steps=test_set.samples)\n",
        "  # Get most likely class\n",
        "  predicted_classes = np.argmax(predictions, axis=1)\n",
        "  true_classes = test_data_generator.classes\n",
        "  class_labels = list(test_data_generator.class_indices.keys())\n",
        "  print(class_labels)\n",
        "  class_labels = [classes[x] for x in class_labels]  \n",
        "\n",
        "  report = metrics.classification_report(true_classes, predicted_classes, target_names=class_labels)\n",
        "  cm = metrics.confusion_matrix(true_classes, predicted_classes)\n",
        "  print(report)\n",
        "  plot_confusion_matrix(cm, class_labels)\n",
        "\n",
        "\n",
        "confusion_matrix(test_set, model)"
      ]
    },
    {
      "cell_type": "code",
      "execution_count": null,
      "metadata": {
        "id": "YilmpsdwXhWI"
      },
      "outputs": [],
      "source": [
        "dot_img_file = 'model_1.png'\n",
        "tf.keras.utils.plot_model(model, to_file=dot_img_file, show_shapes=True)\n",
        "\n",
        "model.summary()"
      ]
    }
  ],
  "metadata": {
    "accelerator": "GPU",
    "colab": {
      "collapsed_sections": [],
      "name": "[ViT]_DS12_Experimento_3_v0.ipynb",
      "provenance": []
    },
    "kernelspec": {
      "display_name": "Python 3",
      "name": "python3"
    }
  },
  "nbformat": 4,
  "nbformat_minor": 0
}
