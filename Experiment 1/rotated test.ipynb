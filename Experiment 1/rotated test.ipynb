{
 "cells": [
  {
   "cell_type": "code",
   "execution_count": 6,
   "metadata": {},
   "outputs": [],
   "source": [
    "#imports\n",
    "\n",
    "import tensorflow as tf \n",
    "from vit_keras import vit, utils\n",
    "from keras_flops import get_flops\n",
    "import cv2\n"
   ]
  },
  {
   "cell_type": "code",
   "execution_count": 7,
   "metadata": {},
   "outputs": [],
   "source": [
    "#definicao dos diretorios\n",
    "\n",
    "test_dir = r'C:\\Users\\Gabriel\\OneDrive - Universidade de Tras-os-Montes e Alto Douro\\UTAD\\2020-2021\\Pesquisa\\Dataset\\dataset_aumentado_todas\\dataset_aumentado\\test'\n",
    "pesos = r\"C:\\Users\\Gabriel\\OneDrive - Universidade de Tras-os-Montes e Alto Douro\\UTAD\\2020-2021\\Pesquisa\\ViT - Experimentos\\Experimento 0\\model0.h5\""
   ]
  },
  {
   "cell_type": "code",
   "execution_count": 8,
   "metadata": {},
   "outputs": [],
   "source": [
    "#definicao das configuracoes\n",
    "\n",
    "image_size = 224\n",
    "image_shape = (image_size, image_size, 3)\n",
    "classes = 12"
   ]
  },
  {
   "cell_type": "code",
   "execution_count": 9,
   "metadata": {},
   "outputs": [],
   "source": [
    "#carrega o modelo\n",
    "\n",
    "xcp = tf.keras.applications.Xception(\n",
    "    include_top=False,\n",
    "    weights=\"imagenet\",\n",
    "    input_shape=image_shape,\n",
    "    pooling='avg'\n",
    ")\n",
    "\n",
    "from tensorflow.keras.layers import Conv2D, Dense, MaxPooling2D, Flatten, Dropout, BatchNormalization, GlobalMaxPooling2D\n",
    "\n",
    "x = Dense(512, activation='relu')(xcp.output)\n",
    "x = Dropout(0.25)(x)\n",
    "x = Dense(512, activation='relu')(x)\n",
    "x = Dropout(0.25)(x)\n",
    "output = Dense(classes, activation='softmax')(x)\n",
    "model = tf.keras.models.Model(xcp.input, output) \n",
    "\n",
    "model.load_weights(pesos)"
   ]
  },
  {
   "cell_type": "code",
   "execution_count": 10,
   "metadata": {},
   "outputs": [
    {
     "name": "stdout",
     "output_type": "stream",
     "text": [
      "WARNING:tensorflow:From C:\\Python\\lib\\site-packages\\tensorflow\\python\\ops\\nn_ops.py:5161: tensor_shape_from_node_def_name (from tensorflow.python.framework.graph_util_impl) is deprecated and will be removed in a future version.\n",
      "Instructions for updating:\n",
      "Use `tf.compat.v1.graph_util.tensor_shape_from_node_def_name`\n",
      "FLOPS: 9.14 G\n"
     ]
    }
   ],
   "source": [
    "#imprime os flops\n",
    "\n",
    "flops = get_flops(model, batch_size=1)\n",
    "print(f\"FLOPS: {flops / 10 ** 9:.03} G\")"
   ]
  },
  {
   "cell_type": "code",
   "execution_count": 11,
   "metadata": {},
   "outputs": [
    {
     "name": "stdout",
     "output_type": "stream",
     "text": [
      "Notebook run using keras: 2.7.0\n",
      "------------------------------------\n",
      "90: \n",
      "Found 72 images belonging to 12 classes.\n",
      "['Codega', 'Malvasia Fina', 'Malvasia Preta', 'Malvasia Rei', 'Moscatel Galego', 'Mourisco Tinto', 'Rabigato', 'Tinta Amarela', 'Tinta Barroca', 'Tinta Roriz', 'Tinto Cao', 'Touriga Nacional']\n",
      "              precision    recall  f1-score   support\n",
      "\n",
      "          CD       1.00      0.67      0.80         6\n",
      "          MF       1.00      0.83      0.91         6\n",
      "          MP       0.50      1.00      0.67         6\n",
      "          MR       1.00      0.83      0.91         6\n",
      "          MG       0.83      0.83      0.83         6\n",
      "          MT       0.80      0.67      0.73         6\n",
      "          RG       1.00      0.67      0.80         6\n",
      "          TA       0.75      1.00      0.86         6\n",
      "          TB       1.00      0.83      0.91         6\n",
      "          TR       0.75      1.00      0.86         6\n",
      "          TC       1.00      1.00      1.00         6\n",
      "          TN       1.00      0.67      0.80         6\n",
      "\n",
      "    accuracy                           0.83        72\n",
      "   macro avg       0.89      0.83      0.84        72\n",
      "weighted avg       0.89      0.83      0.84        72\n",
      "\n",
      "Confusion matrix, without normalization\n",
      "[[4 0 2 0 0 0 0 0 0 0 0 0]\n",
      " [0 5 0 0 0 0 0 1 0 0 0 0]\n",
      " [0 0 6 0 0 0 0 0 0 0 0 0]\n",
      " [0 0 0 5 0 0 0 0 0 1 0 0]\n",
      " [0 0 1 0 5 0 0 0 0 0 0 0]\n",
      " [0 0 2 0 0 4 0 0 0 0 0 0]\n",
      " [0 0 1 0 0 0 4 1 0 0 0 0]\n",
      " [0 0 0 0 0 0 0 6 0 0 0 0]\n",
      " [0 0 0 0 0 1 0 0 5 0 0 0]\n",
      " [0 0 0 0 0 0 0 0 0 6 0 0]\n",
      " [0 0 0 0 0 0 0 0 0 0 6 0]\n",
      " [0 0 0 0 1 0 0 0 0 1 0 4]]\n",
      "------------------------------------\n",
      "180: \n",
      "Found 72 images belonging to 12 classes.\n",
      "['Codega', 'Malvasia Fina', 'Malvasia Preta', 'Malvasia Rei', 'Moscatel Galego', 'Mourisco Tinto', 'Rabigato', 'Tinta Amarela', 'Tinta Barroca', 'Tinta Roriz', 'Tinto Cao', 'Touriga Nacional']\n",
      "              precision    recall  f1-score   support\n",
      "\n",
      "          CD       1.00      0.67      0.80         6\n",
      "          MF       1.00      0.67      0.80         6\n",
      "          MP       0.67      1.00      0.80         6\n",
      "          MR       0.71      0.83      0.77         6\n",
      "          MG       1.00      0.83      0.91         6\n",
      "          MT       0.71      0.83      0.77         6\n",
      "          RG       0.80      0.67      0.73         6\n",
      "          TA       0.75      1.00      0.86         6\n",
      "          TB       0.83      0.83      0.83         6\n",
      "          TR       0.71      0.83      0.77         6\n",
      "          TC       0.86      1.00      0.92         6\n",
      "          TN       1.00      0.50      0.67         6\n",
      "\n",
      "    accuracy                           0.81        72\n",
      "   macro avg       0.84      0.81      0.80        72\n",
      "weighted avg       0.84      0.81      0.80        72\n",
      "\n",
      "Confusion matrix, without normalization\n",
      "[[4 0 1 1 0 0 0 0 0 0 0 0]\n",
      " [0 4 0 0 0 1 1 0 0 0 0 0]\n",
      " [0 0 6 0 0 0 0 0 0 0 0 0]\n",
      " [0 0 0 5 0 0 0 0 0 1 0 0]\n",
      " [0 0 1 0 5 0 0 0 0 0 0 0]\n",
      " [0 0 1 0 0 5 0 0 0 0 0 0]\n",
      " [0 0 0 0 0 0 4 2 0 0 0 0]\n",
      " [0 0 0 0 0 0 0 6 0 0 0 0]\n",
      " [0 0 0 0 0 1 0 0 5 0 0 0]\n",
      " [0 0 0 0 0 0 0 0 0 5 1 0]\n",
      " [0 0 0 0 0 0 0 0 0 0 6 0]\n",
      " [0 0 0 1 0 0 0 0 1 1 0 3]]\n",
      "------------------------------------\n",
      "270: \n",
      "Found 72 images belonging to 12 classes.\n",
      "['Codega', 'Malvasia Fina', 'Malvasia Preta', 'Malvasia Rei', 'Moscatel Galego', 'Mourisco Tinto', 'Rabigato', 'Tinta Amarela', 'Tinta Barroca', 'Tinta Roriz', 'Tinto Cao', 'Touriga Nacional']\n",
      "              precision    recall  f1-score   support\n",
      "\n",
      "          CD       0.80      0.67      0.73         6\n",
      "          MF       1.00      0.67      0.80         6\n",
      "          MP       0.60      1.00      0.75         6\n",
      "          MR       0.80      0.67      0.73         6\n",
      "          MG       0.86      1.00      0.92         6\n",
      "          MT       0.67      0.67      0.67         6\n",
      "          RG       0.80      0.67      0.73         6\n",
      "          TA       0.86      1.00      0.92         6\n",
      "          TB       1.00      0.67      0.80         6\n",
      "          TR       0.60      1.00      0.75         6\n",
      "          TC       1.00      1.00      1.00         6\n",
      "          TN       1.00      0.50      0.67         6\n",
      "\n",
      "    accuracy                           0.79        72\n",
      "   macro avg       0.83      0.79      0.79        72\n",
      "weighted avg       0.83      0.79      0.79        72\n",
      "\n",
      "Confusion matrix, without normalization\n",
      "[[4 0 0 1 0 0 0 0 0 1 0 0]\n",
      " [0 4 0 0 0 1 1 0 0 0 0 0]\n",
      " [0 0 6 0 0 0 0 0 0 0 0 0]\n",
      " [1 0 0 4 0 0 0 0 0 1 0 0]\n",
      " [0 0 0 0 6 0 0 0 0 0 0 0]\n",
      " [0 0 2 0 0 4 0 0 0 0 0 0]\n",
      " [0 0 1 0 0 0 4 1 0 0 0 0]\n",
      " [0 0 0 0 0 0 0 6 0 0 0 0]\n",
      " [0 0 0 0 1 1 0 0 4 0 0 0]\n",
      " [0 0 0 0 0 0 0 0 0 6 0 0]\n",
      " [0 0 0 0 0 0 0 0 0 0 6 0]\n",
      " [0 0 1 0 0 0 0 0 0 2 0 3]]\n"
     ]
    },
    {
     "data": {
      "image/png": "[encoded data removed]",
      "text/plain": [
       "<Figure size 432x288 with 2 Axes>"
      ]
     },
     "metadata": {
      "needs_background": "light"
     },
     "output_type": "display_data"
    },
    {
     "data": {
      "image/png": "[encoded data removed]",
      "text/plain": [
       "<Figure size 432x288 with 2 Axes>"
      ]
     },
     "metadata": {
      "needs_background": "light"
     },
     "output_type": "display_data"
    },
    {
     "data": {
      "image/png": "[encoded data removed]",
      "text/plain": [
       "<Figure size 432x288 with 2 Axes>"
      ]
     },
     "metadata": {
      "needs_background": "light"
     },
     "output_type": "display_data"
    }
   ],
   "source": [
    "#matriz de confusao \n",
    "import os\n",
    "import tensorflow.keras as keras\n",
    "from tensorflow.keras.applications import inception_v3 as inc_net\n",
    "from tensorflow.keras.preprocessing import image\n",
    "from tensorflow.keras.applications.imagenet_utils import decode_predictions\n",
    "from skimage.io import imread\n",
    "import matplotlib.pyplot as plt\n",
    "%matplotlib inline\n",
    "import numpy as np\n",
    "from tensorflow.keras import backend as K\n",
    "from sklearn import metrics\n",
    "import itertools\n",
    "print('Notebook run using keras:', keras.__version__)\n",
    "import random\n",
    "\n",
    "classes_dic ={\n",
    "    'Codega':'CD',\n",
    "    'Malvasia Fina':'MF',\n",
    "    'Malvasia Preta':'MP',\n",
    "    'Malvasia Rei':'MR',\n",
    "    'Moscatel Galego':'MG',\n",
    "    'Mourisco Tinto':'MT',\n",
    "    'Rabigato':'RG',\n",
    "    'Tinta Amarela':'TA',\n",
    "    'Tinta Barroca':'TB',\n",
    "    'Tinta Roriz':'TR',\n",
    "    'Tinto Cao':'TC',\n",
    "    'Touriga Nacional':'TN'\n",
    "}\n",
    "\n",
    "def plot_confusion_matrix(cm, classes,\n",
    "                        normalize=False,\n",
    "                        title='Confusion matrix',\n",
    "                        cmap=plt.cm.Blues):\n",
    "    \"\"\"\n",
    "    This function prints and plots the confusion matrix.\n",
    "    Normalization can be applied by setting `normalize=True`.\n",
    "    \"\"\"\n",
    "    plt.figure()\n",
    "    plt.imshow(cm, interpolation='nearest', cmap=cmap)\n",
    "    plt.title(title)\n",
    "    plt.colorbar()\n",
    "    tick_marks = np.arange(len(classes))\n",
    "    plt.xticks(tick_marks, classes, rotation=45)\n",
    "    plt.yticks(tick_marks, classes)\n",
    "\n",
    "    if normalize:\n",
    "        cm = cm.astype('float') / cm.sum(axis=1)[:, np.newaxis]\n",
    "        print(\"Normalized confusion matrix\")\n",
    "    else:\n",
    "        print('Confusion matrix, without normalization')\n",
    "\n",
    "    print(cm)\n",
    "\n",
    "    thresh = cm.max() / 2.\n",
    "    for i, j in itertools.product(range(cm.shape[0]), range(cm.shape[1])):\n",
    "        plt.text(j, i, cm[i, j],\n",
    "            horizontalalignment=\"center\",\n",
    "            color=\"white\" if cm[i, j] > thresh else \"black\")\n",
    "\n",
    "    plt.tight_layout()\n",
    "    plt.ylabel('True label')\n",
    "    plt.xlabel('Predicted label')\n",
    "\n",
    "def confusion_matrix(test_data_generator, model):\n",
    "  test_data_generator.reset()\n",
    "  predictions = model.predict(test_data_generator, steps=test_set.samples)\n",
    "  # Get most likely class\n",
    "  predicted_classes = np.argmax(predictions, axis=1)\n",
    "  true_classes = test_data_generator.classes\n",
    "  class_labels = list(test_data_generator.class_indices.keys())\n",
    "  print(class_labels)\n",
    "  class_labels = [classes_dic[x] for x in class_labels]  \n",
    "\n",
    "  report = metrics.classification_report(true_classes, predicted_classes, target_names=class_labels)\n",
    "  cm = metrics.confusion_matrix(true_classes, predicted_classes)\n",
    "  print(report)\n",
    "  plot_confusion_matrix(cm, class_labels)\n",
    "\n",
    "rotates = [cv2.ROTATE_90_CLOCKWISE, cv2.ROTATE_180, cv2.ROTATE_90_COUNTERCLOCKWISE]\n",
    "degrees = [90, 180, 270]\n",
    "for i in range(len(rotates)):\n",
    "\n",
    "    print('------------------------------------')\n",
    "    print(str(degrees[i]) + ': ')\n",
    "    def preprocessing(x):\n",
    "        aux = cv2.rotate(x, rotates[i])\n",
    "        aux = tf.keras.applications.xception.preprocess_input(aux)\n",
    "        return aux\n",
    "    \n",
    "    test_datagen = tf.keras.preprocessing.image.ImageDataGenerator(preprocessing_function=preprocessing)\n",
    "    test_set = test_datagen.flow_from_directory(test_dir, \n",
    "                                                target_size=(image_size, image_size),\n",
    "                                                class_mode='categorical',\n",
    "                                                batch_size=1,\n",
    "                                                shuffle=False)\n",
    "\n",
    "    test_set.reset()\n",
    "    confusion_matrix(test_set, model)\n",
    "    "
   ]
  }
 ],
 "metadata": {
  "interpreter": {
   "hash": "38740d3277777e2cd7c6c2cc9d8addf5118fdf3f82b1b39231fd12aeac8aee8b"
  },
  "kernelspec": {
   "display_name": "Python 3.8.6 64-bit",
   "language": "python",
   "name": "python3"
  },
  "language_info": {
   "codemirror_mode": {
    "name": "ipython",
    "version": 3
   },
   "file_extension": ".py",
   "mimetype": "text/x-python",
   "name": "python",
   "nbconvert_exporter": "python",
   "pygments_lexer": "ipython3",
   "version": "3.8.6"
  },
  "orig_nbformat": 4
 },
 "nbformat": 4,
 "nbformat_minor": 2
}
