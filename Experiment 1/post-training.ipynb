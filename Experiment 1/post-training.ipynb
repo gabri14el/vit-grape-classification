{
 "cells": [
  {
   "cell_type": "code",
   "execution_count": null,
   "metadata": {},
   "outputs": [],
   "source": [
    "#imports\n",
    "\n",
    "import tensorflow as tf \n",
    "from vit_keras import vit, utils\n",
    "from keras_flops import get_flops\n"
   ]
  },
  {
   "cell_type": "code",
   "execution_count": null,
   "metadata": {},
   "outputs": [],
   "source": [
    "#definicao dos diretorios\n",
    "\n",
    "test_dir = r'C:\\Users\\Gabriel\\OneDrive - Universidade de Tras-os-Montes e Alto Douro\\UTAD\\2020-2021\\Pesquisa\\Dataset\\dataset_aumentado_todas\\dataset_aumentado\\test'\n",
    "pesos = r\"C:\\Users\\Gabriel\\OneDrive - Universidade de Tras-os-Montes e Alto Douro\\UTAD\\2020-2021\\Pesquisa\\ViT - Experimentos\\model0.h5\""
   ]
  },
  {
   "cell_type": "code",
   "execution_count": null,
   "metadata": {},
   "outputs": [],
   "source": [
    "#definicao das configuracoes\n",
    "\n",
    "image_size = 224\n",
    "image_shape = (image_size, image_size, 3)\n",
    "classes = 12"
   ]
  },
  {
   "cell_type": "code",
   "execution_count": null,
   "metadata": {},
   "outputs": [],
   "source": [
    "#carrega o modelo\n",
    "\n",
    "xcp = tf.keras.applications.Xception(\n",
    "    include_top=False,\n",
    "    weights=\"imagenet\",\n",
    "    input_shape=image_shape,\n",
    "    pooling='avg'\n",
    ")\n",
    "\n",
    "from tensorflow.keras.layers import Conv2D, Dense, MaxPooling2D, Flatten, Dropout, BatchNormalization, GlobalMaxPooling2D\n",
    "\n",
    "x = Dense(512, activation='relu')(xcp.output)\n",
    "x = Dropout(0.25)(x)\n",
    "x = Dense(512, activation='relu')(x)\n",
    "x = Dropout(0.25)(x)\n",
    "output = Dense(classes, activation='softmax')(x)\n",
    "model = tf.keras.models.Model(xcp.input, output) \n",
    "\n",
    "model.load_weights(pesos)"
   ]
  },
  {
   "cell_type": "code",
   "execution_count": null,
   "metadata": {},
   "outputs": [],
   "source": [
    "#imprime os flops\n",
    "\n",
    "flops = get_flops(model, batch_size=1)\n",
    "print(f\"FLOPS: {flops / 10 ** 9:.03} G\")"
   ]
  },
  {
   "cell_type": "code",
   "execution_count": null,
   "metadata": {},
   "outputs": [],
   "source": [
    "#matriz de confusao \n",
    "import os\n",
    "import tensorflow.keras as keras\n",
    "from tensorflow.keras.applications import inception_v3 as inc_net\n",
    "from tensorflow.keras.preprocessing import image\n",
    "from tensorflow.keras.applications.imagenet_utils import decode_predictions\n",
    "from skimage.io import imread\n",
    "import matplotlib.pyplot as plt\n",
    "%matplotlib inline\n",
    "import numpy as np\n",
    "from tensorflow.keras import backend as K\n",
    "from sklearn import metrics\n",
    "import itertools\n",
    "print('Notebook run using keras:', keras.__version__)\n",
    "import random\n",
    "\n",
    "def plot_confusion_matrix(cm, classes,\n",
    "                        normalize=False,\n",
    "                        title='Confusion matrix',\n",
    "                        cmap=plt.cm.Blues):\n",
    "    \"\"\"\n",
    "    This function prints and plots the confusion matrix.\n",
    "    Normalization can be applied by setting `normalize=True`.\n",
    "    \"\"\"\n",
    "    plt.figure()\n",
    "    plt.imshow(cm, interpolation='nearest', cmap=cmap)\n",
    "    plt.title(title)\n",
    "    plt.colorbar()\n",
    "    tick_marks = np.arange(len(classes))\n",
    "    plt.xticks(tick_marks, classes, rotation=45)\n",
    "    plt.yticks(tick_marks, classes)\n",
    "\n",
    "    if normalize:\n",
    "        cm = cm.astype('float') / cm.sum(axis=1)[:, np.newaxis]\n",
    "        print(\"Normalized confusion matrix\")\n",
    "    else:\n",
    "        print('Confusion matrix, without normalization')\n",
    "\n",
    "    print(cm)\n",
    "\n",
    "    thresh = cm.max() / 2.\n",
    "    for i, j in itertools.product(range(cm.shape[0]), range(cm.shape[1])):\n",
    "        plt.text(j, i, cm[i, j],\n",
    "            horizontalalignment=\"center\",\n",
    "            color=\"white\" if cm[i, j] > thresh else \"black\")\n",
    "\n",
    "    plt.tight_layout()\n",
    "    plt.ylabel('True label')\n",
    "    plt.xlabel('Predicted label')\n",
    "\n",
    "def confusion_matrix(test_data_generator, model):\n",
    "  test_data_generator.reset()\n",
    "  predictions = model.predict(test_data_generator, steps=test_set.samples)\n",
    "  # Get most likely class\n",
    "  predicted_classes = np.argmax(predictions, axis=1)\n",
    "  true_classes = test_data_generator.classes\n",
    "  class_labels = list(test_data_generator.class_indices.keys())\n",
    "  print(class_labels)\n",
    "  class_labels = [classes_dic[x] for x in class_labels]  \n",
    "\n",
    "  report = metrics.classification_report(true_classes, predicted_classes, target_names=class_labels)\n",
    "  cm = metrics.confusion_matrix(true_classes, predicted_classes)\n",
    "  print(report)\n",
    "  plot_confusion_matrix(cm, class_labels)\n",
    "\n",
    "test_datagen = tf.keras.preprocessing.image.ImageDataGenerator(preprocessing_function=tf.keras.applications.xcpetion.preprocess_input)\n",
    "test_set = test_datagen.flow_from_directory(test_dir, \n",
    "                                            target_size=(image_size, image_size),\n",
    "                                            class_mode='categorical',\n",
    "                                            batch_size=1,\n",
    "                                            shuffle=False)\n",
    "\n",
    "test_set.reset()\n",
    "confusion_matrix(test_set, model)"
   ]
  }
 ],
 "metadata": {
  "interpreter": {
   "hash": "38740d3277777e2cd7c6c2cc9d8addf5118fdf3f82b1b39231fd12aeac8aee8b"
  },
  "kernelspec": {
   "display_name": "Python 3.8.6 64-bit",
   "language": "python",
   "name": "python3"
  },
  "language_info": {
   "codemirror_mode": {
    "name": "ipython",
    "version": 3
   },
   "file_extension": ".py",
   "mimetype": "text/x-python",
   "name": "python",
   "nbconvert_exporter": "python",
   "pygments_lexer": "ipython3",
   "version": "3.8.6"
  },
  "orig_nbformat": 4
 },
 "nbformat": 4,
 "nbformat_minor": 2
}
