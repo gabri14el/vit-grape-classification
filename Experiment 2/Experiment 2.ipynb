{
  "cells": [
    {
      "cell_type": "markdown",
      "metadata": {
        "id": "z9T4CFWtdR8r"
      },
      "source": [
        "Importando as bibliotecas necessárias."
      ]
    },
    {
      "cell_type": "code",
      "execution_count": null,
      "metadata": {
        "colab": {
          "base_uri": "https://localhost:8080/"
        },
        "id": "2qveJTWbdV3z",
        "outputId": "d1ac2ad2-69cd-46fe-f68f-138609ba27de"
      },
      "outputs": [
        {
          "name": "stdout",
          "output_type": "stream",
          "text": [
            "Collecting tensorflow_addons\n",
            "  Downloading tensorflow_addons-0.15.0-cp37-cp37m-manylinux_2_12_x86_64.manylinux2010_x86_64.whl (1.1 MB)\n",
            "\u001b[?25l\r\u001b[K     |▎                               | 10 kB 25.0 MB/s eta 0:00:01\r\u001b[K     |▋                               | 20 kB 8.4 MB/s eta 0:00:01\r\u001b[K     |▉                               | 30 kB 7.3 MB/s eta 0:00:01\r\u001b[K     |█▏                              | 40 kB 6.9 MB/s eta 0:00:01\r\u001b[K     |█▌                              | 51 kB 4.1 MB/s eta 0:00:01\r\u001b[K     |█▊                              | 61 kB 4.3 MB/s eta 0:00:01\r\u001b[K     |██                              | 71 kB 4.3 MB/s eta 0:00:01\r\u001b[K     |██▍                             | 81 kB 4.8 MB/s eta 0:00:01\r\u001b[K     |██▋                             | 92 kB 4.9 MB/s eta 0:00:01\r\u001b[K     |███                             | 102 kB 4.1 MB/s eta 0:00:01\r\u001b[K     |███▎                            | 112 kB 4.1 MB/s eta 0:00:01\r\u001b[K     |███▌                            | 122 kB 4.1 MB/s eta 0:00:01\r\u001b[K     |███▉                            | 133 kB 4.1 MB/s eta 0:00:01\r\u001b[K     |████▏                           | 143 kB 4.1 MB/s eta 0:00:01\r\u001b[K     |████▍                           | 153 kB 4.1 MB/s eta 0:00:01\r\u001b[K     |████▊                           | 163 kB 4.1 MB/s eta 0:00:01\r\u001b[K     |█████                           | 174 kB 4.1 MB/s eta 0:00:01\r\u001b[K     |█████▎                          | 184 kB 4.1 MB/s eta 0:00:01\r\u001b[K     |█████▋                          | 194 kB 4.1 MB/s eta 0:00:01\r\u001b[K     |█████▉                          | 204 kB 4.1 MB/s eta 0:00:01\r\u001b[K     |██████▏                         | 215 kB 4.1 MB/s eta 0:00:01\r\u001b[K     |██████▌                         | 225 kB 4.1 MB/s eta 0:00:01\r\u001b[K     |██████▊                         | 235 kB 4.1 MB/s eta 0:00:01\r\u001b[K     |███████                         | 245 kB 4.1 MB/s eta 0:00:01\r\u001b[K     |███████▍                        | 256 kB 4.1 MB/s eta 0:00:01\r\u001b[K     |███████▋                        | 266 kB 4.1 MB/s eta 0:00:01\r\u001b[K     |████████                        | 276 kB 4.1 MB/s eta 0:00:01\r\u001b[K     |████████▎                       | 286 kB 4.1 MB/s eta 0:00:01\r\u001b[K     |████████▌                       | 296 kB 4.1 MB/s eta 0:00:01\r\u001b[K     |████████▉                       | 307 kB 4.1 MB/s eta 0:00:01\r\u001b[K     |█████████                       | 317 kB 4.1 MB/s eta 0:00:01\r\u001b[K     |█████████▍                      | 327 kB 4.1 MB/s eta 0:00:01\r\u001b[K     |█████████▊                      | 337 kB 4.1 MB/s eta 0:00:01\r\u001b[K     |██████████                      | 348 kB 4.1 MB/s eta 0:00:01\r\u001b[K     |██████████▎                     | 358 kB 4.1 MB/s eta 0:00:01\r\u001b[K     |██████████▋                     | 368 kB 4.1 MB/s eta 0:00:01\r\u001b[K     |██████████▉                     | 378 kB 4.1 MB/s eta 0:00:01\r\u001b[K     |███████████▏                    | 389 kB 4.1 MB/s eta 0:00:01\r\u001b[K     |███████████▌                    | 399 kB 4.1 MB/s eta 0:00:01\r\u001b[K     |███████████▊                    | 409 kB 4.1 MB/s eta 0:00:01\r\u001b[K     |████████████                    | 419 kB 4.1 MB/s eta 0:00:01\r\u001b[K     |████████████▍                   | 430 kB 4.1 MB/s eta 0:00:01\r\u001b[K     |████████████▋                   | 440 kB 4.1 MB/s eta 0:00:01\r\u001b[K     |█████████████                   | 450 kB 4.1 MB/s eta 0:00:01\r\u001b[K     |█████████████▎                  | 460 kB 4.1 MB/s eta 0:00:01\r\u001b[K     |█████████████▌                  | 471 kB 4.1 MB/s eta 0:00:01\r\u001b[K     |█████████████▉                  | 481 kB 4.1 MB/s eta 0:00:01\r\u001b[K     |██████████████                  | 491 kB 4.1 MB/s eta 0:00:01\r\u001b[K     |██████████████▍                 | 501 kB 4.1 MB/s eta 0:00:01\r\u001b[K     |██████████████▊                 | 512 kB 4.1 MB/s eta 0:00:01\r\u001b[K     |███████████████                 | 522 kB 4.1 MB/s eta 0:00:01\r\u001b[K     |███████████████▎                | 532 kB 4.1 MB/s eta 0:00:01\r\u001b[K     |███████████████▋                | 542 kB 4.1 MB/s eta 0:00:01\r\u001b[K     |███████████████▉                | 552 kB 4.1 MB/s eta 0:00:01\r\u001b[K     |████████████████▏               | 563 kB 4.1 MB/s eta 0:00:01\r\u001b[K     |████████████████▌               | 573 kB 4.1 MB/s eta 0:00:01\r\u001b[K     |████████████████▊               | 583 kB 4.1 MB/s eta 0:00:01\r\u001b[K     |█████████████████               | 593 kB 4.1 MB/s eta 0:00:01\r\u001b[K     |█████████████████▍              | 604 kB 4.1 MB/s eta 0:00:01\r\u001b[K     |█████████████████▋              | 614 kB 4.1 MB/s eta 0:00:01\r\u001b[K     |██████████████████              | 624 kB 4.1 MB/s eta 0:00:01\r\u001b[K     |██████████████████▏             | 634 kB 4.1 MB/s eta 0:00:01\r\u001b[K     |██████████████████▌             | 645 kB 4.1 MB/s eta 0:00:01\r\u001b[K     |██████████████████▉             | 655 kB 4.1 MB/s eta 0:00:01\r\u001b[K     |███████████████████             | 665 kB 4.1 MB/s eta 0:00:01\r\u001b[K     |███████████████████▍            | 675 kB 4.1 MB/s eta 0:00:01\r\u001b[K     |███████████████████▊            | 686 kB 4.1 MB/s eta 0:00:01\r\u001b[K     |████████████████████            | 696 kB 4.1 MB/s eta 0:00:01\r\u001b[K     |████████████████████▎           | 706 kB 4.1 MB/s eta 0:00:01\r\u001b[K     |████████████████████▋           | 716 kB 4.1 MB/s eta 0:00:01\r\u001b[K     |████████████████████▉           | 727 kB 4.1 MB/s eta 0:00:01\r\u001b[K     |█████████████████████▏          | 737 kB 4.1 MB/s eta 0:00:01\r\u001b[K     |█████████████████████▌          | 747 kB 4.1 MB/s eta 0:00:01\r\u001b[K     |█████████████████████▊          | 757 kB 4.1 MB/s eta 0:00:01\r\u001b[K     |██████████████████████          | 768 kB 4.1 MB/s eta 0:00:01\r\u001b[K     |██████████████████████▎         | 778 kB 4.1 MB/s eta 0:00:01\r\u001b[K     |██████████████████████▋         | 788 kB 4.1 MB/s eta 0:00:01\r\u001b[K     |███████████████████████         | 798 kB 4.1 MB/s eta 0:00:01\r\u001b[K     |███████████████████████▏        | 808 kB 4.1 MB/s eta 0:00:01\r\u001b[K     |███████████████████████▌        | 819 kB 4.1 MB/s eta 0:00:01\r\u001b[K     |███████████████████████▉        | 829 kB 4.1 MB/s eta 0:00:01\r\u001b[K     |████████████████████████        | 839 kB 4.1 MB/s eta 0:00:01\r\u001b[K     |████████████████████████▍       | 849 kB 4.1 MB/s eta 0:00:01\r\u001b[K     |████████████████████████▊       | 860 kB 4.1 MB/s eta 0:00:01\r\u001b[K     |█████████████████████████       | 870 kB 4.1 MB/s eta 0:00:01\r\u001b[K     |█████████████████████████▎      | 880 kB 4.1 MB/s eta 0:00:01\r\u001b[K     |█████████████████████████▋      | 890 kB 4.1 MB/s eta 0:00:01\r\u001b[K     |█████████████████████████▉      | 901 kB 4.1 MB/s eta 0:00:01\r\u001b[K     |██████████████████████████▏     | 911 kB 4.1 MB/s eta 0:00:01\r\u001b[K     |██████████████████████████▌     | 921 kB 4.1 MB/s eta 0:00:01\r\u001b[K     |██████████████████████████▊     | 931 kB 4.1 MB/s eta 0:00:01\r\u001b[K     |███████████████████████████     | 942 kB 4.1 MB/s eta 0:00:01\r\u001b[K     |███████████████████████████▎    | 952 kB 4.1 MB/s eta 0:00:01\r\u001b[K     |███████████████████████████▋    | 962 kB 4.1 MB/s eta 0:00:01\r\u001b[K     |████████████████████████████    | 972 kB 4.1 MB/s eta 0:00:01\r\u001b[K     |████████████████████████████▏   | 983 kB 4.1 MB/s eta 0:00:01\r\u001b[K     |████████████████████████████▌   | 993 kB 4.1 MB/s eta 0:00:01\r\u001b[K     |████████████████████████████▉   | 1.0 MB 4.1 MB/s eta 0:00:01\r\u001b[K     |█████████████████████████████   | 1.0 MB 4.1 MB/s eta 0:00:01\r\u001b[K     |█████████████████████████████▍  | 1.0 MB 4.1 MB/s eta 0:00:01\r\u001b[K     |█████████████████████████████▊  | 1.0 MB 4.1 MB/s eta 0:00:01\r\u001b[K     |██████████████████████████████  | 1.0 MB 4.1 MB/s eta 0:00:01\r\u001b[K     |██████████████████████████████▎ | 1.1 MB 4.1 MB/s eta 0:00:01\r\u001b[K     |██████████████████████████████▋ | 1.1 MB 4.1 MB/s eta 0:00:01\r\u001b[K     |██████████████████████████████▉ | 1.1 MB 4.1 MB/s eta 0:00:01\r\u001b[K     |███████████████████████████████▏| 1.1 MB 4.1 MB/s eta 0:00:01\r\u001b[K     |███████████████████████████████▍| 1.1 MB 4.1 MB/s eta 0:00:01\r\u001b[K     |███████████████████████████████▊| 1.1 MB 4.1 MB/s eta 0:00:01\r\u001b[K     |████████████████████████████████| 1.1 MB 4.1 MB/s \n",
            "\u001b[?25hRequirement already satisfied: typeguard>=2.7 in /usr/local/lib/python3.7/dist-packages (from tensorflow_addons) (2.7.1)\n",
            "Installing collected packages: tensorflow-addons\n",
            "Successfully installed tensorflow-addons-0.15.0\n",
            "TensorFlow Version 2.7.0\n"
          ]
        }
      ],
      "source": [
        "!pip install tensorflow_addons\n",
        "import pandas as pd\n",
        "import numpy as np\n",
        "import tensorflow as tf\n",
        "import tensorflow_addons as tfa\n",
        "import glob, warnings\n",
        "import matplotlib.pyplot as plt\n",
        "from sklearn.metrics import confusion_matrix, classification_report\n",
        "import seaborn as sns\n",
        "import os\n",
        "\n",
        "warnings.filterwarnings('ignore')\n",
        "print('TensorFlow Version ' + tf.__version__)"
      ]
    },
    {
      "cell_type": "code",
      "execution_count": null,
      "metadata": {
        "colab": {
          "base_uri": "https://localhost:8080/"
        },
        "id": "yyTsMj2Jt086",
        "outputId": "1b9bf684-ec42-4251-fb51-5e96e91fd140"
      },
      "outputs": [
        {
          "name": "stdout",
          "output_type": "stream",
          "text": [
            "Mounted at /content/gdrive\n"
          ]
        }
      ],
      "source": [
        "from google.colab import drive\n",
        "drive._mount('/content/gdrive')"
      ]
    },
    {
      "cell_type": "code",
      "execution_count": null,
      "metadata": {
        "id": "RwM6JCdbiZQ0"
      },
      "outputs": [],
      "source": [
        "IMAGE_SIZE = 224\n",
        "BATCH_SIZE = 16\n",
        "EPOCHS = 100\n",
        "\n",
        "diretorio = 'dataset_aumentado'\n",
        "\n",
        "TRAIN_PATH = os.path.join(diretorio, 'train')\n",
        "TEST_PATH = os.path.join(diretorio, 'test')\n",
        "VALIDATION_PATH = os.path.join(diretorio, 'validation')\n",
        "\n",
        "classes={\n",
        "    0:'CD',\n",
        "    1:'MF',\n",
        "    2:'MP',\n",
        "    3:'MR',\n",
        "    4:'MG',\n",
        "    5:'MT',\n",
        "    6:'RG',\n",
        "    7:'TA',\n",
        "    8:'TB',\n",
        "    9:'TR',\n",
        "    10:'TC',\n",
        "    11:'TN'\n",
        "}"
      ]
    },
    {
      "cell_type": "code",
      "execution_count": null,
      "metadata": {
        "colab": {
          "base_uri": "https://localhost:8080/"
        },
        "id": "keKbeo__kZDa",
        "outputId": "06ed2caf-9321-4219-a00e-bfef8592c4e3"
      },
      "outputs": [
        {
          "name": "stdout",
          "output_type": "stream",
          "text": [
            "Found 6718 images belonging to 12 classes.\n",
            "Found 132 images belonging to 12 classes.\n",
            "Found 72 images belonging to 12 classes.\n"
          ]
        }
      ],
      "source": [
        "train_datagen = tf.keras.preprocessing.image.ImageDataGenerator(rescale = 1./255,\n",
        "                                                          samplewise_center = True,\n",
        "                                                          samplewise_std_normalization = True)\n",
        "\n",
        "val_datagen = tf.keras.preprocessing.image.ImageDataGenerator(rescale = 1./255,\n",
        "                                                          samplewise_center = True,\n",
        "                                                          samplewise_std_normalization = True)\n",
        "\n",
        "test_datagen = tf.keras.preprocessing.image.ImageDataGenerator(rescale = 1./255,\n",
        "                                                          samplewise_center = True,\n",
        "                                                          samplewise_std_normalization = True)\n",
        "\n",
        "train_set = train_datagen.flow_from_directory(TRAIN_PATH,\n",
        "                                              target_size=(IMAGE_SIZE, IMAGE_SIZE),\n",
        "                                              class_mode='categorical',\n",
        "                                              batch_size=BATCH_SIZE)\n",
        "\n",
        "val_set = train_datagen.flow_from_directory(VALIDATION_PATH,\n",
        "                                              target_size=(IMAGE_SIZE, IMAGE_SIZE),\n",
        "                                              class_mode='categorical',\n",
        "                                              batch_size=BATCH_SIZE)\n",
        "\n",
        "test_set = test_datagen.flow_from_directory(TEST_PATH, \n",
        "                                            target_size=(IMAGE_SIZE, IMAGE_SIZE),\n",
        "                                            class_mode='categorical',\n",
        "                                            batch_size=1,\n",
        "                                            shuffle=False)"
      ]
    },
    {
      "cell_type": "code",
      "execution_count": null,
      "metadata": {
        "id": "cxyZvmvjlIts"
      },
      "outputs": [],
      "source": [
        "!pip install --quiet vit-keras\n",
        "\n",
        "from vit_keras import vit"
      ]
    },
    {
      "cell_type": "code",
      "execution_count": null,
      "metadata": {
        "colab": {
          "base_uri": "https://localhost:8080/"
        },
        "id": "Qrmd28sIllkq",
        "outputId": "0837b2fc-cb69-4fe0-89e7-6d636fbde4a4"
      },
      "outputs": [
        {
          "name": "stdout",
          "output_type": "stream",
          "text": [
            "Downloading data from https://github.com/faustomorales/vit-keras/releases/download/dl/ViT-B_16_imagenet21k+imagenet2012.npz\n",
            "347504640/347502902 [==============================] - 50s 0us/step\n",
            "347512832/347502902 [==============================] - 50s 0us/step\n"
          ]
        }
      ],
      "source": [
        "vit_model = vit.vit_b16(\n",
        "        image_size = IMAGE_SIZE,\n",
        "        activation = 'softmax',\n",
        "        pretrained = True,\n",
        "        include_top = False,\n",
        "        pretrained_top = False,\n",
        "        classes = len(classes))"
      ]
    },
    {
      "cell_type": "code",
      "execution_count": null,
      "metadata": {
        "id": "-_MyJ9lmCk6A"
      },
      "outputs": [],
      "source": [
        "from tensorflow.keras.layers import Conv2D, Dense, MaxPooling2D, Flatten, Dropout, BatchNormalization, GlobalMaxPooling2D\n",
        "\n",
        "x = tf.keras.layers.Flatten()(vit_model.output)\n",
        "x = Dense(512, activation='relu')(x)\n",
        "x = Dropout(0.25)(x)\n",
        "x = Dense(512, activation='relu')(x)\n",
        "x = Dropout(0.25)(x)\n",
        "output = Dense(len(classes), activation='softmax')(x)\n",
        "model = tf.keras.models.Model(vit_model.input, output) \n",
        "\n",
        "\n",
        "for layer in range(len(vit_model.layers)):\n",
        "    vit_model.layers[layer].treinable=False"
      ]
    },
    {
      "cell_type": "code",
      "execution_count": null,
      "metadata": {
        "colab": {
          "base_uri": "https://localhost:8080/"
        },
        "id": "iqJvsgW5Cv0Y",
        "outputId": "3d526c52-a31c-4110-b544-f3c843bf4801"
      },
      "outputs": [
        {
          "name": "stdout",
          "output_type": "stream",
          "text": [
            "Epoch 1/100\n",
            "419/419 [==============================] - ETA: 0s - loss: 1.9051 - accuracy: 0.4982\n",
            "Epoch 00001: val_accuracy improved from -inf to 0.84375, saving model to /content/gdrive/MyDrive/model_best.h5\n",
            "419/419 [==============================] - 596s 1s/step - loss: 1.9051 - accuracy: 0.4982 - val_loss: 1.2793 - val_accuracy: 0.8438 - lr: 1.0000e-04\n",
            "Epoch 2/100\n",
            "419/419 [==============================] - ETA: 0s - loss: 1.1393 - accuracy: 0.9393\n",
            "Epoch 00002: val_accuracy improved from 0.84375 to 0.90625, saving model to /content/gdrive/MyDrive/model_best.h5\n",
            "419/419 [==============================] - 551s 1s/step - loss: 1.1393 - accuracy: 0.9393 - val_loss: 1.1475 - val_accuracy: 0.9062 - lr: 1.0000e-04\n",
            "Epoch 3/100\n",
            "419/419 [==============================] - ETA: 0s - loss: 1.0103 - accuracy: 0.9945\n",
            "Epoch 00003: val_accuracy did not improve from 0.90625\n",
            "419/419 [==============================] - 546s 1s/step - loss: 1.0103 - accuracy: 0.9945 - val_loss: 1.2609 - val_accuracy: 0.8359 - lr: 1.0000e-04\n",
            "Epoch 4/100\n",
            "419/419 [==============================] - ETA: 0s - loss: 0.9811 - accuracy: 0.9954\n",
            "Epoch 00004: ReduceLROnPlateau reducing learning rate to 1.9999999494757503e-05.\n",
            "\n",
            "Epoch 00004: val_accuracy did not improve from 0.90625\n",
            "419/419 [==============================] - 546s 1s/step - loss: 0.9811 - accuracy: 0.9954 - val_loss: 1.1793 - val_accuracy: 0.8906 - lr: 1.0000e-04\n",
            "Epoch 5/100\n",
            "419/419 [==============================] - ETA: 0s - loss: 0.9567 - accuracy: 0.9999Restoring model weights from the end of the best epoch: 2.\n",
            "\n",
            "Epoch 00005: val_accuracy did not improve from 0.90625\n",
            "419/419 [==============================] - 545s 1s/step - loss: 0.9567 - accuracy: 0.9999 - val_loss: 1.1148 - val_accuracy: 0.8984 - lr: 2.0000e-05\n",
            "Epoch 00005: early stopping\n",
            "Epoch 1/100\n",
            "419/419 [==============================] - ETA: 0s - loss: 1.0049 - accuracy: 0.9960\n",
            "Epoch 00001: val_accuracy did not improve from 0.90625\n",
            "419/419 [==============================] - 578s 1s/step - loss: 1.0049 - accuracy: 0.9960 - val_loss: 1.1976 - val_accuracy: 0.8594 - lr: 2.0000e-05\n",
            "Epoch 2/100\n",
            "419/419 [==============================] - ETA: 0s - loss: 0.9796 - accuracy: 0.9994\n",
            "Epoch 00002: val_accuracy improved from 0.90625 to 0.91406, saving model to /content/gdrive/MyDrive/model_best.h5\n",
            "419/419 [==============================] - 546s 1s/step - loss: 0.9796 - accuracy: 0.9994 - val_loss: 1.1277 - val_accuracy: 0.9141 - lr: 2.0000e-05\n",
            "Epoch 3/100\n",
            "419/419 [==============================] - ETA: 0s - loss: 0.9674 - accuracy: 0.9997\n",
            "Epoch 00003: val_accuracy did not improve from 0.91406\n",
            "419/419 [==============================] - 545s 1s/step - loss: 0.9674 - accuracy: 0.9997 - val_loss: 1.1757 - val_accuracy: 0.8750 - lr: 2.0000e-05\n",
            "Epoch 4/100\n",
            "419/419 [==============================] - ETA: 0s - loss: 0.9615 - accuracy: 0.9999\n",
            "Epoch 00004: ReduceLROnPlateau reducing learning rate to 3.999999898951501e-06.\n",
            "\n",
            "Epoch 00004: val_accuracy did not improve from 0.91406\n",
            "419/419 [==============================] - 544s 1s/step - loss: 0.9615 - accuracy: 0.9999 - val_loss: 1.1471 - val_accuracy: 0.8906 - lr: 2.0000e-05\n",
            "Epoch 5/100\n",
            "419/419 [==============================] - ETA: 0s - loss: 0.9543 - accuracy: 1.0000Restoring model weights from the end of the best epoch: 2.\n",
            "\n",
            "Epoch 00005: val_accuracy did not improve from 0.91406\n",
            "419/419 [==============================] - 544s 1s/step - loss: 0.9543 - accuracy: 1.0000 - val_loss: 1.1573 - val_accuracy: 0.8750 - lr: 4.0000e-06\n",
            "Epoch 00005: early stopping\n"
          ]
        }
      ],
      "source": [
        "learning_rate = 1e-4\n",
        "\n",
        "optimizer = tfa.optimizers.RectifiedAdam(learning_rate = learning_rate)\n",
        "\n",
        "model.compile(optimizer = optimizer, \n",
        "              loss = tf.keras.losses.CategoricalCrossentropy(label_smoothing = 0.2), \n",
        "              metrics = ['accuracy'])\n",
        "\n",
        "\n",
        "STEP_SIZE_TRAIN = train_set.n // train_set.batch_size\n",
        "STEP_SIZE_VALID = val_set.n // val_set.batch_size\n",
        "\n",
        "reduce_lr = tf.keras.callbacks.ReduceLROnPlateau(monitor = 'val_accuracy',\n",
        "                                                 factor = 0.2,\n",
        "                                                 patience = 2,\n",
        "                                                 verbose = 1,\n",
        "                                                 min_delta = 1e-4,\n",
        "                                                 min_lr = 1e-6,\n",
        "                                                 mode = 'max')\n",
        "\n",
        "earlystopping = tf.keras.callbacks.EarlyStopping(monitor = 'val_accuracy',\n",
        "                                                 min_delta = 1e-4,\n",
        "                                                 patience = 3,\n",
        "                                                 mode = 'max',\n",
        "                                                 restore_best_weights = True,\n",
        "                                                 verbose = 1)\n",
        "\n",
        "checkpointer = tf.keras.callbacks.ModelCheckpoint(filepath = '/content/gdrive/MyDrive/model_best.h5',\n",
        "                                                  monitor = 'val_accuracy', \n",
        "                                                  verbose = 1, \n",
        "                                                  save_best_only = True,\n",
        "                                                  save_weights_only = True,\n",
        "                                                  mode = 'max')\n",
        "\n",
        "callbacks = [earlystopping, reduce_lr, checkpointer]\n",
        "\n",
        "model.fit(x = train_set,\n",
        "          steps_per_epoch = STEP_SIZE_TRAIN,\n",
        "          validation_data = val_set,\n",
        "          validation_steps = STEP_SIZE_VALID,\n",
        "          epochs = EPOCHS,\n",
        "          callbacks = callbacks)\n",
        "\n",
        "#model.save('model.h5', save_weights_only = True)\n",
        "\n",
        "model.load_weights('/content/gdrive/MyDrive/model_best.h5')\n",
        "\n",
        "learning_rate = 1e-6\n",
        "\n",
        "for layer in range(len(vit_model.layers)):\n",
        "    vit_model.layers[layer].treinable=True\n",
        "  \n",
        "\n",
        "model.compile(optimizer = optimizer, \n",
        "              loss = tf.keras.losses.CategoricalCrossentropy(label_smoothing = 0.2), \n",
        "              metrics = ['accuracy'])\n",
        "\n",
        "\n",
        "model.fit(x = train_set,\n",
        "          steps_per_epoch = STEP_SIZE_TRAIN,\n",
        "          validation_data = val_set,\n",
        "          validation_steps = STEP_SIZE_VALID,\n",
        "          epochs = EPOCHS,\n",
        "          callbacks = callbacks)\n",
        "\n",
        "model.load_weights('/content/gdrive/MyDrive/model_best.h5')\n"
      ]
    },
    {
      "cell_type": "code",
      "execution_count": null,
      "metadata": {
        "colab": {
          "base_uri": "https://localhost:8080/",
          "height": 940
        },
        "id": "P03ty_iOuIXc",
        "outputId": "5642c91d-5010-4bce-846f-3633df0b2d34"
      },
      "outputs": [
        {
          "name": "stdout",
          "output_type": "stream",
          "text": [
            "['Codega', 'Malvasia Fina', 'Malvasia Preta', 'Malvasia Rei', 'Moscatel Galego', 'Mourisco Tinto', 'Rabigato', 'Tinta Amarela', 'Tinta Barroca', 'Tinta Roriz', 'Tinto Cao', 'Touriga Nacional']\n",
            "              precision    recall  f1-score   support\n",
            "\n",
            "          CD       1.00      0.67      0.80         6\n",
            "          MF       0.83      0.83      0.83         6\n",
            "          MP       1.00      1.00      1.00         6\n",
            "          MR       0.75      1.00      0.86         6\n",
            "          MG       1.00      1.00      1.00         6\n",
            "          MT       1.00      0.83      0.91         6\n",
            "          RG       1.00      0.83      0.91         6\n",
            "          TA       1.00      1.00      1.00         6\n",
            "          TB       0.86      1.00      0.92         6\n",
            "          TR       0.75      1.00      0.86         6\n",
            "          TC       0.86      1.00      0.92         6\n",
            "          TN       1.00      0.67      0.80         6\n",
            "\n",
            "    accuracy                           0.90        72\n",
            "   macro avg       0.92      0.90      0.90        72\n",
            "weighted avg       0.92      0.90      0.90        72\n",
            "\n",
            "Confusion matrix, without normalization\n",
            "[[4 0 0 1 0 0 0 0 0 1 0 0]\n",
            " [0 5 0 1 0 0 0 0 0 0 0 0]\n",
            " [0 0 6 0 0 0 0 0 0 0 0 0]\n",
            " [0 0 0 6 0 0 0 0 0 0 0 0]\n",
            " [0 0 0 0 6 0 0 0 0 0 0 0]\n",
            " [0 0 0 0 0 5 0 0 1 0 0 0]\n",
            " [0 1 0 0 0 0 5 0 0 0 0 0]\n",
            " [0 0 0 0 0 0 0 6 0 0 0 0]\n",
            " [0 0 0 0 0 0 0 0 6 0 0 0]\n",
            " [0 0 0 0 0 0 0 0 0 6 0 0]\n",
            " [0 0 0 0 0 0 0 0 0 0 6 0]\n",
            " [0 0 0 0 0 0 0 0 0 1 1 4]]\n"
          ]
        },
        {
          "data": {
            "image/png": "[encoded data removed]",
            "text/plain": [
              "<Figure size 432x288 with 2 Axes>"
            ]
          },
          "metadata": {
            "needs_background": "light"
          },
          "output_type": "display_data"
        }
      ],
      "source": [
        "classes={\n",
        "    'Codega':'CD',\n",
        "    'Malvasia Fina':'MF',\n",
        "    'Malvasia Preta':'MP',\n",
        "    'Malvasia Rei':'MR',\n",
        "    'Moscatel Galego':'MG',\n",
        "    'Mourisco Tinto':'MT',\n",
        "    'Rabigato':'RG',\n",
        "    'Tinta Amarela':'TA',\n",
        "    'Tinta Barroca':'TB',\n",
        "    'Tinta Roriz':'TR',\n",
        "    'Tinto Cao':'TC',\n",
        "    'Touriga Nacional':'TN'\n",
        "}\n",
        "\n",
        "from sklearn import metrics\n",
        "import itertools\n",
        "\n",
        "def plot_confusion_matrix(cm, classes,\n",
        "                        normalize=False,\n",
        "                        title='Confusion matrix',\n",
        "                        cmap=plt.cm.Blues):\n",
        "    \"\"\"\n",
        "    This function prints and plots the confusion matrix.\n",
        "    Normalization can be applied by setting `normalize=True`.\n",
        "    \"\"\"\n",
        "    plt.figure()\n",
        "    plt.imshow(cm, interpolation='nearest', cmap=cmap)\n",
        "    plt.title(title)\n",
        "    plt.colorbar()\n",
        "    tick_marks = np.arange(len(classes))\n",
        "    plt.xticks(tick_marks, classes, rotation=45)\n",
        "    plt.yticks(tick_marks, classes)\n",
        "\n",
        "    if normalize:\n",
        "        cm = cm.astype('float') / cm.sum(axis=1)[:, np.newaxis]\n",
        "        print(\"Normalized confusion matrix\")\n",
        "    else:\n",
        "        print('Confusion matrix, without normalization')\n",
        "\n",
        "    print(cm)\n",
        "\n",
        "    thresh = cm.max() / 2.\n",
        "    for i, j in itertools.product(range(cm.shape[0]), range(cm.shape[1])):\n",
        "        plt.text(j, i, cm[i, j],\n",
        "            horizontalalignment=\"center\",\n",
        "            color=\"white\" if cm[i, j] > thresh else \"black\")\n",
        "\n",
        "    plt.tight_layout()\n",
        "    plt.ylabel('True label')\n",
        "    plt.xlabel('Predicted label')\n",
        "\n",
        "def confusion_matrix(test_data_generator, model):\n",
        "  test_data_generator.reset()\n",
        "  predictions = model.predict(test_data_generator, steps=test_set.samples)\n",
        "  # Get most likely class\n",
        "  predicted_classes = np.argmax(predictions, axis=1)\n",
        "  true_classes = test_data_generator.classes\n",
        "  class_labels = list(test_data_generator.class_indices.keys())\n",
        "  print(class_labels)\n",
        "  class_labels = [classes[x] for x in class_labels]  \n",
        "\n",
        "  report = metrics.classification_report(true_classes, predicted_classes, target_names=class_labels)\n",
        "  cm = metrics.confusion_matrix(true_classes, predicted_classes)\n",
        "  print(report)\n",
        "  plot_confusion_matrix(cm, class_labels)\n",
        "\n",
        "\n",
        "confusion_matrix(test_set, model)"
      ]
    }
  ],
  "metadata": {
    "accelerator": "GPU",
    "colab": {
      "collapsed_sections": [],
      "name": "[ViT] DS12 - Experimento 1",
      "provenance": []
    },
    "kernelspec": {
      "display_name": "Python 3",
      "name": "python3"
    }
  },
  "nbformat": 4,
  "nbformat_minor": 0
}
