{
  "cells": [
    {
      "cell_type": "markdown",
      "metadata": {
        "id": "X7W7v1i4gVn4"
      },
      "source": [
        "Baixando e extraindo o dataset:"
      ]
    },
    {
      "cell_type": "markdown",
      "metadata": {
        "id": "z9T4CFWtdR8r"
      },
      "source": [
        "Importando as bibliotecas necessárias."
      ]
    },
    {
      "cell_type": "code",
      "execution_count": 7,
      "metadata": {
        "colab": {
          "base_uri": "https://localhost:8080/"
        },
        "id": "2qveJTWbdV3z",
        "outputId": "d0ba6393-d7ab-4dce-9e05-8b38517556b4"
      },
      "outputs": [
        {
          "name": "stdout",
          "output_type": "stream",
          "text": [
            "Requirement already satisfied: tensorflow_addons in /usr/local/lib/python3.7/dist-packages (0.15.0)\n",
            "Requirement already satisfied: typeguard>=2.7 in /usr/local/lib/python3.7/dist-packages (from tensorflow_addons) (2.7.1)\n",
            "TensorFlow Version 2.7.0\n"
          ]
        }
      ],
      "source": [
        "!pip install tensorflow_addons\n",
        "import pandas as pd\n",
        "import numpy as np\n",
        "import tensorflow as tf\n",
        "import tensorflow_addons as tfa\n",
        "import glob, warnings\n",
        "import matplotlib.pyplot as plt\n",
        "from sklearn.metrics import confusion_matrix, classification_report\n",
        "import seaborn as sns\n",
        "import os\n",
        "\n",
        "warnings.filterwarnings('ignore')\n",
        "print('TensorFlow Version ' + tf.__version__)"
      ]
    },
    {
      "cell_type": "code",
      "execution_count": 8,
      "metadata": {
        "colab": {
          "base_uri": "https://localhost:8080/"
        },
        "id": "yyTsMj2Jt086",
        "outputId": "71c3ff65-3380-4360-e510-d5d1f7ae779a"
      },
      "outputs": [
        {
          "name": "stdout",
          "output_type": "stream",
          "text": [
            "Drive already mounted at /content/gdrive; to attempt to forcibly remount, call drive.mount(\"/content/gdrive\", force_remount=True).\n"
          ]
        }
      ],
      "source": [
        "from google.colab import drive\n",
        "drive._mount('/content/gdrive')"
      ]
    },
    {
      "cell_type": "code",
      "execution_count": 9,
      "metadata": {
        "id": "RwM6JCdbiZQ0"
      },
      "outputs": [],
      "source": [
        "IMAGE_SIZE = 224\n",
        "BATCH_SIZE = 32\n",
        "EPOCHS = 100\n",
        "\n",
        "diretorio = 'dataset_aumentado'\n",
        "\n",
        "TRAIN_PATH = os.path.join(diretorio, 'train')\n",
        "TEST_PATH = os.path.join(diretorio, 'test')\n",
        "VALIDATION_PATH = os.path.join(diretorio, 'validation')\n",
        "\n",
        "classes={\n",
        "    0:'CD',\n",
        "    1:'MF',\n",
        "    2:'MP',\n",
        "    3:'MR',\n",
        "    4:'MG',\n",
        "    5:'MT',\n",
        "    6:'RG',\n",
        "    7:'TA',\n",
        "    8:'TB',\n",
        "    9:'TR',\n",
        "    10:'TC',\n",
        "    11:'TN'\n",
        "}"
      ]
    },
    {
      "cell_type": "code",
      "execution_count": 10,
      "metadata": {
        "id": "cxyZvmvjlIts"
      },
      "outputs": [],
      "source": [
        "!pip install --quiet vit-keras\n",
        "\n",
        "from vit_keras import vit"
      ]
    },
    {
      "cell_type": "code",
      "execution_count": 11,
      "metadata": {
        "colab": {
          "base_uri": "https://localhost:8080/"
        },
        "id": "keKbeo__kZDa",
        "outputId": "c5778cc6-bd4e-4e46-d82e-c1484936401f"
      },
      "outputs": [
        {
          "name": "stdout",
          "output_type": "stream",
          "text": [
            "Found 6718 images belonging to 12 classes.\n",
            "Found 132 images belonging to 12 classes.\n",
            "Found 72 images belonging to 12 classes.\n"
          ]
        }
      ],
      "source": [
        "train_datagen = tf.keras.preprocessing.image.ImageDataGenerator(preprocessing_function=vit.preprocess_inputs)\n",
        "\n",
        "val_datagen = tf.keras.preprocessing.image.ImageDataGenerator(preprocessing_function=vit.preprocess_inputs)\n",
        "\n",
        "test_datagen = tf.keras.preprocessing.image.ImageDataGenerator(preprocessing_function=vit.preprocess_inputs)\n",
        "\n",
        "train_set = train_datagen.flow_from_directory(TRAIN_PATH,\n",
        "                                              target_size=(IMAGE_SIZE, IMAGE_SIZE),\n",
        "                                              class_mode='categorical',\n",
        "                                              batch_size=BATCH_SIZE)\n",
        "\n",
        "val_set = train_datagen.flow_from_directory(VALIDATION_PATH,\n",
        "                                              target_size=(IMAGE_SIZE, IMAGE_SIZE),\n",
        "                                              class_mode='categorical',\n",
        "                                              batch_size=BATCH_SIZE)\n",
        "\n",
        "test_set = test_datagen.flow_from_directory(TEST_PATH, \n",
        "                                            target_size=(IMAGE_SIZE, IMAGE_SIZE),\n",
        "                                            class_mode='categorical',\n",
        "                                            batch_size=1,\n",
        "                                            shuffle=False)"
      ]
    },
    {
      "cell_type": "code",
      "execution_count": 12,
      "metadata": {
        "colab": {
          "base_uri": "https://localhost:8080/"
        },
        "id": "Qrmd28sIllkq",
        "outputId": "297911ae-9f35-46b4-e61f-a21164c225de"
      },
      "outputs": [
        {
          "name": "stdout",
          "output_type": "stream",
          "text": [
            "Downloading data from https://github.com/faustomorales/vit-keras/releases/download/dl/ViT-B_16_imagenet21k+imagenet2012.npz\n",
            "347504640/347502902 [==============================] - 4s 0us/step\n",
            "347512832/347502902 [==============================] - 4s 0us/step\n"
          ]
        }
      ],
      "source": [
        "vit_model = vit.vit_b16(\n",
        "        image_size = IMAGE_SIZE,\n",
        "        activation = 'softmax',\n",
        "        pretrained = True,\n",
        "        include_top = False,\n",
        "        pretrained_top = False,\n",
        "        classes = len(classes))"
      ]
    },
    {
      "cell_type": "code",
      "execution_count": 13,
      "metadata": {
        "id": "-_MyJ9lmCk6A"
      },
      "outputs": [],
      "source": [
        "from tensorflow.keras.layers import Conv2D, Dense, MaxPooling2D, Flatten, Dropout, BatchNormalization, GlobalMaxPooling2D\n",
        "\n",
        "x = tf.keras.layers.Flatten()(vit_model.output)\n",
        "x = Dense(512, activation='relu')(x)\n",
        "x = Dropout(0.25)(x)\n",
        "x = Dense(512, activation='relu')(x)\n",
        "x = Dropout(0.25)(x)\n",
        "output = Dense(len(classes), activation='softmax')(x)\n",
        "model = tf.keras.models.Model(vit_model.input, output) \n",
        "\n",
        "\n",
        "for layer in range(len(vit_model.layers)):\n",
        "    vit_model.layers[layer].treinable=False"
      ]
    },
    {
      "cell_type": "code",
      "execution_count": 14,
      "metadata": {
        "colab": {
          "base_uri": "https://localhost:8080/"
        },
        "id": "iqJvsgW5Cv0Y",
        "outputId": "a32c8a38-6792-48b1-e60c-b5f3fd433398"
      },
      "outputs": [
        {
          "name": "stdout",
          "output_type": "stream",
          "text": [
            "Epoch 1/100\n",
            "209/209 [==============================] - ETA: 0s - loss: 2.1491 - accuracy: 0.3570\n",
            "Epoch 00001: val_accuracy improved from -inf to 0.74219, saving model to /content/gdrive/MyDrive/model3.h5\n",
            "209/209 [==============================] - 583s 3s/step - loss: 2.1491 - accuracy: 0.3570 - val_loss: 1.4606 - val_accuracy: 0.7422 - lr: 1.0000e-04\n",
            "Epoch 2/100\n",
            "209/209 [==============================] - ETA: 0s - loss: 1.2435 - accuracy: 0.8911\n",
            "Epoch 00002: val_accuracy improved from 0.74219 to 0.89062, saving model to /content/gdrive/MyDrive/model3.h5\n",
            "209/209 [==============================] - 539s 3s/step - loss: 1.2435 - accuracy: 0.8911 - val_loss: 1.1777 - val_accuracy: 0.8906 - lr: 1.0000e-04\n",
            "Epoch 3/100\n",
            "209/209 [==============================] - ETA: 0s - loss: 1.0544 - accuracy: 0.9825\n",
            "Epoch 00003: val_accuracy improved from 0.89062 to 0.89844, saving model to /content/gdrive/MyDrive/model3.h5\n",
            "209/209 [==============================] - 539s 3s/step - loss: 1.0544 - accuracy: 0.9825 - val_loss: 1.1473 - val_accuracy: 0.8984 - lr: 1.0000e-04\n",
            "Epoch 4/100\n",
            "209/209 [==============================] - ETA: 0s - loss: 0.9929 - accuracy: 0.9979\n",
            "Epoch 00004: val_accuracy improved from 0.89844 to 0.90625, saving model to /content/gdrive/MyDrive/model3.h5\n",
            "209/209 [==============================] - 537s 3s/step - loss: 0.9929 - accuracy: 0.9979 - val_loss: 1.1510 - val_accuracy: 0.9062 - lr: 1.0000e-04\n",
            "Epoch 5/100\n",
            "209/209 [==============================] - ETA: 0s - loss: 0.9752 - accuracy: 0.9972\n",
            "Epoch 00005: val_accuracy did not improve from 0.90625\n",
            "209/209 [==============================] - 531s 3s/step - loss: 0.9752 - accuracy: 0.9972 - val_loss: 1.1603 - val_accuracy: 0.8750 - lr: 1.0000e-04\n",
            "Epoch 6/100\n",
            "209/209 [==============================] - ETA: 0s - loss: 0.9751 - accuracy: 0.9939\n",
            "Epoch 00006: val_accuracy improved from 0.90625 to 0.93750, saving model to /content/gdrive/MyDrive/model3.h5\n",
            "209/209 [==============================] - 536s 3s/step - loss: 0.9751 - accuracy: 0.9939 - val_loss: 1.0677 - val_accuracy: 0.9375 - lr: 1.0000e-04\n",
            "Epoch 7/100\n",
            "209/209 [==============================] - ETA: 0s - loss: 0.9530 - accuracy: 1.0000\n",
            "Epoch 00007: val_accuracy did not improve from 0.93750\n",
            "209/209 [==============================] - 532s 3s/step - loss: 0.9530 - accuracy: 1.0000 - val_loss: 1.0892 - val_accuracy: 0.9219 - lr: 1.0000e-04\n",
            "Epoch 8/100\n",
            "209/209 [==============================] - ETA: 0s - loss: 0.9470 - accuracy: 1.0000\n",
            "Epoch 00008: ReduceLROnPlateau reducing learning rate to 1.9999999494757503e-05.\n",
            "\n",
            "Epoch 00008: val_accuracy did not improve from 0.93750\n",
            "209/209 [==============================] - 531s 3s/step - loss: 0.9470 - accuracy: 1.0000 - val_loss: 1.0532 - val_accuracy: 0.9375 - lr: 1.0000e-04\n",
            "Epoch 9/100\n",
            "209/209 [==============================] - ETA: 0s - loss: 0.9434 - accuracy: 1.0000Restoring model weights from the end of the best epoch: 6.\n",
            "\n",
            "Epoch 00009: val_accuracy did not improve from 0.93750\n",
            "209/209 [==============================] - 534s 3s/step - loss: 0.9434 - accuracy: 1.0000 - val_loss: 1.0513 - val_accuracy: 0.9375 - lr: 2.0000e-05\n",
            "Epoch 00009: early stopping\n",
            "Epoch 1/100\n",
            "209/209 [==============================] - ETA: 0s - loss: 0.9533 - accuracy: 0.9999\n",
            "Epoch 00001: val_accuracy did not improve from 0.93750\n",
            "209/209 [==============================] - 573s 3s/step - loss: 0.9533 - accuracy: 0.9999 - val_loss: 1.0888 - val_accuracy: 0.9062 - lr: 2.0000e-05\n",
            "Epoch 2/100\n",
            "209/209 [==============================] - ETA: 0s - loss: 0.9502 - accuracy: 1.0000\n",
            "Epoch 00002: val_accuracy did not improve from 0.93750\n",
            "209/209 [==============================] - 537s 3s/step - loss: 0.9502 - accuracy: 1.0000 - val_loss: 1.0581 - val_accuracy: 0.9375 - lr: 2.0000e-05\n",
            "Epoch 3/100\n",
            "209/209 [==============================] - ETA: 0s - loss: 0.9475 - accuracy: 1.0000\n",
            "Epoch 00003: val_accuracy did not improve from 0.93750\n",
            "209/209 [==============================] - 537s 3s/step - loss: 0.9475 - accuracy: 1.0000 - val_loss: 1.0539 - val_accuracy: 0.9375 - lr: 2.0000e-05\n",
            "Epoch 4/100\n",
            "209/209 [==============================] - ETA: 0s - loss: 0.9462 - accuracy: 1.0000\n",
            "Epoch 00004: ReduceLROnPlateau reducing learning rate to 3.999999898951501e-06.\n",
            "\n",
            "Epoch 00004: val_accuracy did not improve from 0.93750\n",
            "209/209 [==============================] - 536s 3s/step - loss: 0.9462 - accuracy: 1.0000 - val_loss: 1.0745 - val_accuracy: 0.9297 - lr: 2.0000e-05\n",
            "Epoch 5/100\n",
            "209/209 [==============================] - ETA: 0s - loss: 0.9453 - accuracy: 1.0000Restoring model weights from the end of the best epoch: 2.\n",
            "\n",
            "Epoch 00005: val_accuracy did not improve from 0.93750\n",
            "209/209 [==============================] - 537s 3s/step - loss: 0.9453 - accuracy: 1.0000 - val_loss: 1.0746 - val_accuracy: 0.9297 - lr: 4.0000e-06\n",
            "Epoch 00005: early stopping\n"
          ]
        }
      ],
      "source": [
        "learning_rate = 1e-4\n",
        "\n",
        "optimizer = tfa.optimizers.RectifiedAdam(learning_rate = learning_rate)\n",
        "\n",
        "model.compile(optimizer = optimizer, \n",
        "              loss = tf.keras.losses.CategoricalCrossentropy(label_smoothing = 0.2), \n",
        "              metrics = ['accuracy'])\n",
        "\n",
        "\n",
        "STEP_SIZE_TRAIN = train_set.n // train_set.batch_size\n",
        "STEP_SIZE_VALID = val_set.n // val_set.batch_size\n",
        "\n",
        "reduce_lr = tf.keras.callbacks.ReduceLROnPlateau(monitor = 'val_accuracy',\n",
        "                                                 factor = 0.2,\n",
        "                                                 patience = 2,\n",
        "                                                 verbose = 1,\n",
        "                                                 min_delta = 1e-4,\n",
        "                                                 min_lr = 1e-6,\n",
        "                                                 mode = 'max')\n",
        "\n",
        "earlystopping = tf.keras.callbacks.EarlyStopping(monitor = 'val_accuracy',\n",
        "                                                 min_delta = 1e-4,\n",
        "                                                 patience = 3,\n",
        "                                                 mode = 'max',\n",
        "                                                 restore_best_weights = True,\n",
        "                                                 verbose = 1)\n",
        "\n",
        "checkpointer = tf.keras.callbacks.ModelCheckpoint(filepath = '/content/gdrive/MyDrive/model3.h5',\n",
        "                                                  monitor = 'val_accuracy', \n",
        "                                                  verbose = 1, \n",
        "                                                  save_best_only = True,\n",
        "                                                  save_weights_only = True,\n",
        "                                                  mode = 'max')\n",
        "\n",
        "callbacks = [earlystopping, reduce_lr, checkpointer]\n",
        "\n",
        "model.fit(x = train_set,\n",
        "          steps_per_epoch = STEP_SIZE_TRAIN,\n",
        "          validation_data = val_set,\n",
        "          validation_steps = STEP_SIZE_VALID,\n",
        "          epochs = EPOCHS,\n",
        "          callbacks = callbacks)\n",
        "\n",
        "#model.save('model.h5', save_weights_only = True)\n",
        "\n",
        "model.load_weights('/content/gdrive/MyDrive/model3.h5')\n",
        "\n",
        "learning_rate = 1e-6\n",
        "\n",
        "for layer in range(len(vit_model.layers)):\n",
        "    vit_model.layers[layer].treinable=True\n",
        "  \n",
        "\n",
        "model.compile(optimizer = optimizer, \n",
        "              loss = tf.keras.losses.CategoricalCrossentropy(label_smoothing = 0.2), \n",
        "              metrics = ['accuracy'])\n",
        "\n",
        "\n",
        "model.fit(x = train_set,\n",
        "          steps_per_epoch = STEP_SIZE_TRAIN,\n",
        "          validation_data = val_set,\n",
        "          validation_steps = STEP_SIZE_VALID,\n",
        "          epochs = EPOCHS,\n",
        "          callbacks = callbacks)\n",
        "\n",
        "model.load_weights('/content/gdrive/MyDrive/model3.h5')\n"
      ]
    },
    {
      "cell_type": "code",
      "execution_count": 15,
      "metadata": {
        "colab": {
          "base_uri": "https://localhost:8080/",
          "height": 948
        },
        "id": "P03ty_iOuIXc",
        "outputId": "6676f587-d4e4-4a17-c1e9-4a3e0b9f5645"
      },
      "outputs": [
        {
          "name": "stdout",
          "output_type": "stream",
          "text": [
            "['Codega', 'Malvasia Fina', 'Malvasia Preta', 'Malvasia Rei', 'Moscatel Galego', 'Mourisco Tinto', 'Rabigato', 'Tinta Amarela', 'Tinta Barroca', 'Tinta Roriz', 'Tinto Cao', 'Touriga Nacional']\n",
            "              precision    recall  f1-score   support\n",
            "\n",
            "          CD       1.00      0.50      0.67         6\n",
            "          MF       0.86      1.00      0.92         6\n",
            "          MP       1.00      1.00      1.00         6\n",
            "          MR       0.67      1.00      0.80         6\n",
            "          MG       1.00      1.00      1.00         6\n",
            "          MT       0.86      1.00      0.92         6\n",
            "          RG       1.00      0.50      0.67         6\n",
            "          TA       0.75      1.00      0.86         6\n",
            "          TB       1.00      0.83      0.91         6\n",
            "          TR       1.00      1.00      1.00         6\n",
            "          TC       0.86      1.00      0.92         6\n",
            "          TN       1.00      0.83      0.91         6\n",
            "\n",
            "    accuracy                           0.89        72\n",
            "   macro avg       0.92      0.89      0.88        72\n",
            "weighted avg       0.92      0.89      0.88        72\n",
            "\n",
            "Confusion matrix, without normalization\n",
            "[[3 0 0 3 0 0 0 0 0 0 0 0]\n",
            " [0 6 0 0 0 0 0 0 0 0 0 0]\n",
            " [0 0 6 0 0 0 0 0 0 0 0 0]\n",
            " [0 0 0 6 0 0 0 0 0 0 0 0]\n",
            " [0 0 0 0 6 0 0 0 0 0 0 0]\n",
            " [0 0 0 0 0 6 0 0 0 0 0 0]\n",
            " [0 1 0 0 0 0 3 2 0 0 0 0]\n",
            " [0 0 0 0 0 0 0 6 0 0 0 0]\n",
            " [0 0 0 0 0 1 0 0 5 0 0 0]\n",
            " [0 0 0 0 0 0 0 0 0 6 0 0]\n",
            " [0 0 0 0 0 0 0 0 0 0 6 0]\n",
            " [0 0 0 0 0 0 0 0 0 0 1 5]]\n"
          ]
        },
        {
          "data": {
            "image/png": "[encoded data removed]",
            "text/plain": [
              "<Figure size 432x288 with 2 Axes>"
            ]
          },
          "metadata": {
            "needs_background": "light"
          },
          "output_type": "display_data"
        }
      ],
      "source": [
        "classes={\n",
        "    'Codega':'CD',\n",
        "    'Malvasia Fina':'MF',\n",
        "    'Malvasia Preta':'MP',\n",
        "    'Malvasia Rei':'MR',\n",
        "    'Moscatel Galego':'MG',\n",
        "    'Mourisco Tinto':'MT',\n",
        "    'Rabigato':'RG',\n",
        "    'Tinta Amarela':'TA',\n",
        "    'Tinta Barroca':'TB',\n",
        "    'Tinta Roriz':'TR',\n",
        "    'Tinto Cao':'TC',\n",
        "    'Touriga Nacional':'TN'\n",
        "}\n",
        "\n",
        "from sklearn import metrics\n",
        "import itertools\n",
        "\n",
        "def plot_confusion_matrix(cm, classes,\n",
        "                        normalize=False,\n",
        "                        title='Confusion matrix',\n",
        "                        cmap=plt.cm.Blues):\n",
        "    \"\"\"\n",
        "    This function prints and plots the confusion matrix.\n",
        "    Normalization can be applied by setting `normalize=True`.\n",
        "    \"\"\"\n",
        "    plt.figure()\n",
        "    plt.imshow(cm, interpolation='nearest', cmap=cmap)\n",
        "    plt.title(title)\n",
        "    plt.colorbar()\n",
        "    tick_marks = np.arange(len(classes))\n",
        "    plt.xticks(tick_marks, classes, rotation=45)\n",
        "    plt.yticks(tick_marks, classes)\n",
        "\n",
        "    if normalize:\n",
        "        cm = cm.astype('float') / cm.sum(axis=1)[:, np.newaxis]\n",
        "        print(\"Normalized confusion matrix\")\n",
        "    else:\n",
        "        print('Confusion matrix, without normalization')\n",
        "\n",
        "    print(cm)\n",
        "\n",
        "    thresh = cm.max() / 2.\n",
        "    for i, j in itertools.product(range(cm.shape[0]), range(cm.shape[1])):\n",
        "        plt.text(j, i, cm[i, j],\n",
        "            horizontalalignment=\"center\",\n",
        "            color=\"white\" if cm[i, j] > thresh else \"black\")\n",
        "\n",
        "    plt.tight_layout()\n",
        "    plt.ylabel('True label')\n",
        "    plt.xlabel('Predicted label')\n",
        "\n",
        "def confusion_matrix(test_data_generator, model):\n",
        "  test_data_generator.reset()\n",
        "  predictions = model.predict(test_data_generator, steps=test_set.samples)\n",
        "  # Get most likely class\n",
        "  predicted_classes = np.argmax(predictions, axis=1)\n",
        "  true_classes = test_data_generator.classes\n",
        "  class_labels = list(test_data_generator.class_indices.keys())\n",
        "  print(class_labels)\n",
        "  class_labels = [classes[x] for x in class_labels]  \n",
        "\n",
        "  report = metrics.classification_report(true_classes, predicted_classes, target_names=class_labels)\n",
        "  cm = metrics.confusion_matrix(true_classes, predicted_classes)\n",
        "  print(report)\n",
        "  plot_confusion_matrix(cm, class_labels)\n",
        "\n",
        "\n",
        "confusion_matrix(test_set, model)"
      ]
    }
  ],
  "metadata": {
    "accelerator": "GPU",
    "colab": {
      "collapsed_sections": [],
      "name": "[ViT] Experimento 3.ipynb",
      "provenance": []
    },
    "kernelspec": {
      "display_name": "Python 3",
      "name": "python3"
    }
  },
  "nbformat": 4,
  "nbformat_minor": 0
}
